{
  "nbformat": 4,
  "nbformat_minor": 0,
  "metadata": {
    "colab": {
      "name": "External data: Local Files, Drive, Sheets, and Cloud Storage",
      "provenance": [],
      "collapsed_sections": [],
      "toc_visible": true,
      "include_colab_link": true
    },
    "kernelspec": {
      "display_name": "Python 3",
      "name": "python3"
    }
  },
  "cells": [
    {
      "cell_type": "markdown",
      "metadata": {
        "id": "view-in-github",
        "colab_type": "text"
      },
      "source": [
        "<a href=\"https://colab.research.google.com/github/dstiff-clgx/2019-Hackathon/blob/master/Manage_NLP_Hackathon_Dataset.ipynb\" target=\"_parent\"><img src=\"https://colab.research.google.com/assets/colab-badge.svg\" alt=\"Open In Colab\"/></a>"
      ]
    },
    {
      "cell_type": "markdown",
      "metadata": {
        "colab_type": "text",
        "id": "S7c8WYyQdh5i"
      },
      "source": [
        "# Connecting to Google Cloud storage\n",
        "\n",
        "The MLS data sets is stored in a Google Cloud storage bucket. To access the dataset, you must first specify your project ID and the bucket name.\n"
      ]
    },
    {
      "cell_type": "code",
      "metadata": {
        "colab_type": "code",
        "id": "VYC5CyAbAtU7",
        "colab": {}
      },
      "source": [
        "project_id = 'clgx-analytics2-65bd'\n",
        "\n",
        "bucket_name = 'clgx-analytics2-tiger-team'"
      ],
      "execution_count": 50,
      "outputs": []
    },
    {
      "cell_type": "markdown",
      "metadata": {
        "colab_type": "text",
        "id": "-OtHMRVda9pJ"
      },
      "source": [
        "In order to access Google Cloud storage, we must authenticate. (This only needs to be done once.)\n"
      ]
    },
    {
      "cell_type": "code",
      "metadata": {
        "colab_type": "code",
        "id": "NQX0hbfYaEKc",
        "colab": {}
      },
      "source": [
        "from google.colab import auth\n",
        "auth.authenticate_user()"
      ],
      "execution_count": 51,
      "outputs": []
    },
    {
      "cell_type": "markdown",
      "metadata": {
        "id": "Djvza4K_Fnvy",
        "colab_type": "text"
      },
      "source": [
        "Set the project ID for gcloud (_Is this necessary?_)\n"
      ]
    },
    {
      "cell_type": "code",
      "metadata": {
        "id": "IYq_cA1QF8Hs",
        "colab_type": "code",
        "colab": {
          "base_uri": "https://localhost:8080/",
          "height": 34
        },
        "outputId": "9fc830de-4a90-4c8e-a311-e20c2e01806a"
      },
      "source": [
        "!gcloud config set project {project_id}"
      ],
      "execution_count": 52,
      "outputs": [
        {
          "output_type": "stream",
          "text": [
            "Updated property [core/project].\n"
          ],
          "name": "stdout"
        }
      ]
    },
    {
      "cell_type": "markdown",
      "metadata": {
        "id": "DI1klg3tFHno",
        "colab_type": "text"
      },
      "source": [
        "# Load Multiple Listing Service (MLS) dataset into Pandas data frame"
      ]
    },
    {
      "cell_type": "markdown",
      "metadata": {
        "colab_type": "text",
        "id": "NAM6vyXAfVUj"
      },
      "source": [
        "`pandas` can read a file directly from Google Cloud storage. The MLS data file is quite large, so it can take some time to read it into a data frame.\n",
        "\n",
        "`pandas` does not always assign the correct data type to columns in a CSV file. But you can set specific column types in `read_csv` by using a `dtype` dictionary. The `pandas` character type is `object`.\n",
        "\n",
        "Also include any date columns in the `parse_dates` list to automatically convert them into `datetime64` types."
      ]
    },
    {
      "cell_type": "code",
      "metadata": {
        "colab_type": "code",
        "id": "LADpx7LReOMk",
        "colab": {}
      },
      "source": [
        "# !pip install gcsfs    # If gcsfs is not installed on your VM, uncomment this line\n",
        "import pandas as pd\n",
        "\n",
        "mls_df = pd.read_csv('gs://clgx-analytics2-tiger-team/Closed_Listings_06037_SFR_2017_or_Later_Tabular.csv',\n",
        "                     dtype={'FA_APN':'object',\n",
        "                            'CMAS_Zip5':'object',\n",
        "                            'CMAS_FIPS_CODE':'object'},\n",
        "                     parse_dates=['ListDate','CloseDate'])"
      ],
      "execution_count": 53,
      "outputs": []
    },
    {
      "cell_type": "markdown",
      "metadata": {
        "colab_type": "text",
        "id": "sSz0aInzWXFI"
      },
      "source": [
        "Each property listing has a unique ID, which is a combination of its parcel number `FA_APN` and its listing date `ListDate`. All of the listings are for single-family properties in Los Angeles county with listing dates on or after January 1, 2017."
      ]
    },
    {
      "cell_type": "code",
      "metadata": {
        "colab_type": "code",
        "id": "Bcpvh_R_6jKB",
        "colab": {
          "base_uri": "https://localhost:8080/",
          "height": 204
        },
        "outputId": "5aaacffd-02cb-4e4b-9dc3-ec824aece274"
      },
      "source": [
        "mls_df[['ID','FA_APN','ListDate',\n",
        "        'CMAS_SIT_HSE_NBR_1_NZ','CMAS_SIT_STR_NAME_1_NZ','CMAS_PROPERTY_CITY_1','CMAS_PROPERTY_STATE_1','CMAS_Zip5']].head()"
      ],
      "execution_count": 54,
      "outputs": [
        {
          "output_type": "execute_result",
          "data": {
            "text/html": [
              "<div>\n",
              "<style scoped>\n",
              "    .dataframe tbody tr th:only-of-type {\n",
              "        vertical-align: middle;\n",
              "    }\n",
              "\n",
              "    .dataframe tbody tr th {\n",
              "        vertical-align: top;\n",
              "    }\n",
              "\n",
              "    .dataframe thead th {\n",
              "        text-align: right;\n",
              "    }\n",
              "</style>\n",
              "<table border=\"1\" class=\"dataframe\">\n",
              "  <thead>\n",
              "    <tr style=\"text-align: right;\">\n",
              "      <th></th>\n",
              "      <th>ID</th>\n",
              "      <th>FA_APN</th>\n",
              "      <th>ListDate</th>\n",
              "      <th>CMAS_SIT_HSE_NBR_1_NZ</th>\n",
              "      <th>CMAS_SIT_STR_NAME_1_NZ</th>\n",
              "      <th>CMAS_PROPERTY_CITY_1</th>\n",
              "      <th>CMAS_PROPERTY_STATE_1</th>\n",
              "      <th>CMAS_Zip5</th>\n",
              "    </tr>\n",
              "  </thead>\n",
              "  <tbody>\n",
              "    <tr>\n",
              "      <th>0</th>\n",
              "      <td>0493057004_2020-02-14</td>\n",
              "      <td>0493057004</td>\n",
              "      <td>2020-02-14</td>\n",
              "      <td>2973</td>\n",
              "      <td>HILLSIDE</td>\n",
              "      <td>West Covina</td>\n",
              "      <td>CA</td>\n",
              "      <td>91791</td>\n",
              "    </tr>\n",
              "    <tr>\n",
              "      <th>1</th>\n",
              "      <td>0713900400_2018-06-21</td>\n",
              "      <td>0713900400</td>\n",
              "      <td>2018-06-21</td>\n",
              "      <td>3804</td>\n",
              "      <td>LINDEN</td>\n",
              "      <td>Long Beach</td>\n",
              "      <td>CA</td>\n",
              "      <td>90807</td>\n",
              "    </tr>\n",
              "    <tr>\n",
              "      <th>2</th>\n",
              "      <td>2004001019_2018-02-22</td>\n",
              "      <td>2004001019</td>\n",
              "      <td>2018-02-22</td>\n",
              "      <td>8321</td>\n",
              "      <td>PONCE</td>\n",
              "      <td>Los Angeles</td>\n",
              "      <td>CA</td>\n",
              "      <td>91304</td>\n",
              "    </tr>\n",
              "    <tr>\n",
              "      <th>3</th>\n",
              "      <td>2004001031_2019-02-05</td>\n",
              "      <td>2004001031</td>\n",
              "      <td>2019-02-05</td>\n",
              "      <td>8315</td>\n",
              "      <td>PONCE</td>\n",
              "      <td>Los Angeles</td>\n",
              "      <td>CA</td>\n",
              "      <td>91304</td>\n",
              "    </tr>\n",
              "    <tr>\n",
              "      <th>4</th>\n",
              "      <td>2004002001_2018-08-08</td>\n",
              "      <td>2004002001</td>\n",
              "      <td>2018-08-08</td>\n",
              "      <td>22726</td>\n",
              "      <td>ECCLES</td>\n",
              "      <td>Los Angeles</td>\n",
              "      <td>CA</td>\n",
              "      <td>91304</td>\n",
              "    </tr>\n",
              "  </tbody>\n",
              "</table>\n",
              "</div>"
            ],
            "text/plain": [
              "                      ID      FA_APN  ... CMAS_PROPERTY_STATE_1  CMAS_Zip5\n",
              "0  0493057004_2020-02-14  0493057004  ...                    CA      91791\n",
              "1  0713900400_2018-06-21  0713900400  ...                    CA      90807\n",
              "2  2004001019_2018-02-22  2004001019  ...                    CA      91304\n",
              "3  2004001031_2019-02-05  2004001031  ...                    CA      91304\n",
              "4  2004002001_2018-08-08  2004002001  ...                    CA      91304\n",
              "\n",
              "[5 rows x 8 columns]"
            ]
          },
          "metadata": {
            "tags": []
          },
          "execution_count": 54
        }
      ]
    },
    {
      "cell_type": "markdown",
      "metadata": {
        "colab_type": "text",
        "id": "MHPM16gWWNvn"
      },
      "source": [
        "The listing `ListPrice` and closed `ClosePrice` prices are avaiable for each property, along with the listing date `ListDate` and closing date `CloseDate`. You can calculate each property's \"days-on-market\" by subtracting the `ListDate` from the `CloseDate`.\n",
        "\n",
        "There are some erroneous dates in the MLS dataset, so some of the calculated days-on-market may be odd."
      ]
    },
    {
      "cell_type": "code",
      "metadata": {
        "colab_type": "code",
        "id": "L5cMl7XV65be",
        "colab": {
          "base_uri": "https://localhost:8080/",
          "height": 357
        },
        "outputId": "65a17334-e5bc-4d01-b139-e485ff8f0f68"
      },
      "source": [
        "mls_df['DaysOnMarket'] = mls_df['CloseDate'] - mls_df['ListDate']\n",
        "\n",
        "display(mls_df[['ListDate','CloseDate','DaysOnMarket']].head())\n",
        "\n",
        "display(mls_df['DaysOnMarket'].describe())"
      ],
      "execution_count": 55,
      "outputs": [
        {
          "output_type": "display_data",
          "data": {
            "text/html": [
              "<div>\n",
              "<style scoped>\n",
              "    .dataframe tbody tr th:only-of-type {\n",
              "        vertical-align: middle;\n",
              "    }\n",
              "\n",
              "    .dataframe tbody tr th {\n",
              "        vertical-align: top;\n",
              "    }\n",
              "\n",
              "    .dataframe thead th {\n",
              "        text-align: right;\n",
              "    }\n",
              "</style>\n",
              "<table border=\"1\" class=\"dataframe\">\n",
              "  <thead>\n",
              "    <tr style=\"text-align: right;\">\n",
              "      <th></th>\n",
              "      <th>ListDate</th>\n",
              "      <th>CloseDate</th>\n",
              "      <th>DaysOnMarket</th>\n",
              "    </tr>\n",
              "  </thead>\n",
              "  <tbody>\n",
              "    <tr>\n",
              "      <th>0</th>\n",
              "      <td>2020-02-14</td>\n",
              "      <td>2020-04-23</td>\n",
              "      <td>69 days</td>\n",
              "    </tr>\n",
              "    <tr>\n",
              "      <th>1</th>\n",
              "      <td>2018-06-21</td>\n",
              "      <td>2018-08-29</td>\n",
              "      <td>69 days</td>\n",
              "    </tr>\n",
              "    <tr>\n",
              "      <th>2</th>\n",
              "      <td>2018-02-22</td>\n",
              "      <td>2018-04-18</td>\n",
              "      <td>55 days</td>\n",
              "    </tr>\n",
              "    <tr>\n",
              "      <th>3</th>\n",
              "      <td>2019-02-05</td>\n",
              "      <td>2019-04-24</td>\n",
              "      <td>78 days</td>\n",
              "    </tr>\n",
              "    <tr>\n",
              "      <th>4</th>\n",
              "      <td>2018-08-08</td>\n",
              "      <td>2018-10-18</td>\n",
              "      <td>71 days</td>\n",
              "    </tr>\n",
              "  </tbody>\n",
              "</table>\n",
              "</div>"
            ],
            "text/plain": [
              "    ListDate  CloseDate DaysOnMarket\n",
              "0 2020-02-14 2020-04-23      69 days\n",
              "1 2018-06-21 2018-08-29      69 days\n",
              "2 2018-02-22 2018-04-18      55 days\n",
              "3 2019-02-05 2019-04-24      78 days\n",
              "4 2018-08-08 2018-10-18      71 days"
            ]
          },
          "metadata": {
            "tags": []
          }
        },
        {
          "output_type": "display_data",
          "data": {
            "text/plain": [
              "count                     161015\n",
              "mean     79 days 16:00:57.401813\n",
              "std      72 days 14:23:22.216268\n",
              "min          -219 days +00:00:00\n",
              "25%             43 days 00:00:00\n",
              "50%             61 days 00:00:00\n",
              "75%             95 days 00:00:00\n",
              "max           9915 days 00:00:00\n",
              "Name: DaysOnMarket, dtype: object"
            ]
          },
          "metadata": {
            "tags": []
          }
        }
      ]
    },
    {
      "cell_type": "markdown",
      "metadata": {
        "colab_type": "text",
        "id": "xAPlMk6nWKNm"
      },
      "source": [
        "In the MLS database, all of the listings were marked as \"for sale\" as opposed to \"for rent\". But there are some errors in this field, so there are some rental properties included in the dataset.\n"
      ]
    },
    {
      "cell_type": "code",
      "metadata": {
        "colab_type": "code",
        "id": "pJGU6gX-7M-N",
        "colab": {
          "base_uri": "https://localhost:8080/",
          "height": 34
        },
        "outputId": "38d5b62d-1750-4300-a6ea-34a111e49cdb"
      },
      "source": [
        "(mls_df.ClosePrice < 10000).sum()"
      ],
      "execution_count": 56,
      "outputs": [
        {
          "output_type": "execute_result",
          "data": {
            "text/plain": [
              "3093"
            ]
          },
          "metadata": {
            "tags": []
          },
          "execution_count": 56
        }
      ]
    },
    {
      "cell_type": "markdown",
      "metadata": {
        "id": "SdL8sHbKHXSi",
        "colab_type": "text"
      },
      "source": [
        "# Text Information in the MLS Dataset"
      ]
    },
    {
      "cell_type": "markdown",
      "metadata": {
        "id": "kTAxc-2CHgrK",
        "colab_type": "text"
      },
      "source": [
        "The dataset includes the most-populated text fields in the MLS database for Los Angeles county. These are the fields that realtors use to describe properties to potential buyers and include in listing sheets and advertisements.\n",
        "\n",
        "Some of the fields are not necessarily public (e.g., `AgentRemarks`). For the most part, the field names provide a good description of the information included in each field.\n",
        "\n",
        "Here are the average number of characacters included in each field across all listings:"
      ]
    },
    {
      "cell_type": "code",
      "metadata": {
        "id": "1p79PXPdKINM",
        "colab_type": "code",
        "colab": {
          "base_uri": "https://localhost:8080/",
          "height": 527
        },
        "outputId": "6051d485-4caa-48c4-d084-097c0f21acc7"
      },
      "source": [
        "text_desc_cols = ['AgentRemarks','Appliances','Cooling',\n",
        "                  'Directions','GarageStyle','Heating',\n",
        "                  'LotDesc','ParkingFeatures','Pool',\n",
        "                  'PublicRemarks','Roof','RoomsDiningDescription',\n",
        "                  'RoomsLaundryDescription','RoomsOtherDescription','StoriesDesc',\n",
        "                  'Style','UtilitiesSewer','UtilitiesWater',\n",
        "                  'ViewDescription','Zoning','Exterior',\n",
        "                  'Fencing','Floors','SecurityFeatures',\n",
        "                  'Utilities','HeatingFuel','IrrigationSource',\n",
        "                  'Amenities1','Amenities2']\n",
        "\n",
        "mls_df[text_desc_cols].fillna('').astype(str).apply(lambda x:x.str.len()).mean().sort_values(ascending=False)"
      ],
      "execution_count": 57,
      "outputs": [
        {
          "output_type": "execute_result",
          "data": {
            "text/plain": [
              "PublicRemarks              721.357575\n",
              "AgentRemarks               249.710350\n",
              "RoomsOtherDescription       54.484880\n",
              "Directions                  50.633283\n",
              "LotDesc                     39.062752\n",
              "Appliances                  32.550371\n",
              "GarageStyle                 26.867099\n",
              "ParkingFeatures             23.899693\n",
              "UtilitiesWater              20.794895\n",
              "RoomsLaundryDescription     20.778642\n",
              "Utilities                   14.971704\n",
              "ViewDescription             14.665435\n",
              "Cooling                     14.651399\n",
              "RoomsDiningDescription      14.225613\n",
              "Heating                     13.670180\n",
              "Floors                      11.485172\n",
              "UtilitiesSewer              10.529249\n",
              "Pool                        10.464714\n",
              "SecurityFeatures            10.348353\n",
              "Zoning                       5.312288\n",
              "Style                        5.250356\n",
              "StoriesDesc                  3.952905\n",
              "Fencing                      3.732826\n",
              "Roof                         3.721951\n",
              "HeatingFuel                  2.958644\n",
              "Exterior                     1.995274\n",
              "Amenities2                   0.353973\n",
              "Amenities1                   0.261013\n",
              "IrrigationSource             0.155290\n",
              "dtype: float64"
            ]
          },
          "metadata": {
            "tags": []
          },
          "execution_count": 57
        }
      ]
    },
    {
      "cell_type": "markdown",
      "metadata": {
        "id": "EdVHoGNkM4wg",
        "colab_type": "text"
      },
      "source": [
        "The data set also contains a field `AllText` that combines all of the text fields into a single string. The Google AutoML NLP models require that all text appears in a single string.\n",
        "\n",
        "Each field is denoted by its field name followed by a colon. The fields are separated by semi-colons. (Does including the field names make it more difficult for AutoML to fit accurate NLP models?)"
      ]
    },
    {
      "cell_type": "code",
      "metadata": {
        "id": "GnHWdB8yPwXO",
        "colab_type": "code",
        "colab": {
          "base_uri": "https://localhost:8080/",
          "height": 1000
        },
        "outputId": "fb737838-e7fc-4f80-ebf5-cea5b3544b79"
      },
      "source": [
        "pd.set_option('display.max_colwidth', None)\n",
        "\n",
        "display(mls_df[text_desc_cols].head(n=1).transpose())\n",
        "\n",
        "display(mls_df[['ID','AllText']].head(n=1))"
      ],
      "execution_count": 58,
      "outputs": [
        {
          "output_type": "display_data",
          "data": {
            "text/html": [
              "<div>\n",
              "<style scoped>\n",
              "    .dataframe tbody tr th:only-of-type {\n",
              "        vertical-align: middle;\n",
              "    }\n",
              "\n",
              "    .dataframe tbody tr th {\n",
              "        vertical-align: top;\n",
              "    }\n",
              "\n",
              "    .dataframe thead th {\n",
              "        text-align: right;\n",
              "    }\n",
              "</style>\n",
              "<table border=\"1\" class=\"dataframe\">\n",
              "  <thead>\n",
              "    <tr style=\"text-align: right;\">\n",
              "      <th></th>\n",
              "      <th>0</th>\n",
              "    </tr>\n",
              "  </thead>\n",
              "  <tbody>\n",
              "    <tr>\n",
              "      <th>AgentRemarks</th>\n",
              "      <td>Beautiful Spacious home in the South Hills area of West Covina. As you enter through the double entry doors you see the step down formal living room with vaulted ceiling and plantation shutters with a formal dining room adjacent to the living room that has french doors leading to the backyard. The family room is off the open kitchen which both overlook the backyard. The spacious family room has tile flooring, fireplace, and wet bar. This home features 4 bedrooms, one of which is the Master bedroom en-suite. This master suite has its own sitting area with wet bar and fireplace to enjoy while reading a book or having a glass of wine. The updated master bath is attached with beautiful individual shower and large tub, dual sinks and lots of counter space. There is also a full bath upstairs with dual sink ,tub and shower. The 3 car attached garage has direct access to the house and backyard.Great entertaining home with a beautiful outdoor kitchen area with built in BBQ, sink, and mini fridge along with seating for several guests to enjoy. The added bonus is a outdoor fireplace to enjoy on cool nights. The large swimming pool features a spa and waterfall. Lots of fruit trees and very private. The home is near Cal Poly, Mt Sac Junior College, shops, restaurants and near the 10, 60 and 57 freeways. This home is also near the South Hills Country Club and golf course. A Must see! The lot is over 20,000 sq. ft. Front yard has a view of Mt Baldy and mountain range.</td>\n",
              "    </tr>\n",
              "    <tr>\n",
              "      <th>Appliances</th>\n",
              "      <td>Barbecue,Built-In Range,Dishwasher,Electric Cooktop,Refrigerator</td>\n",
              "    </tr>\n",
              "    <tr>\n",
              "      <th>Cooling</th>\n",
              "      <td>Ceiling Fan(s),Central A/C</td>\n",
              "    </tr>\n",
              "    <tr>\n",
              "      <th>Directions</th>\n",
              "      <td>West of Citrus S/Cameron</td>\n",
              "    </tr>\n",
              "    <tr>\n",
              "      <th>GarageStyle</th>\n",
              "      <td>Direct Garage Access,Driveway,Concrete</td>\n",
              "    </tr>\n",
              "    <tr>\n",
              "      <th>Heating</th>\n",
              "      <td>Forced Air Unit</td>\n",
              "    </tr>\n",
              "    <tr>\n",
              "      <th>LotDesc</th>\n",
              "      <td>Back Yard,Front Yard,Lot 20000-39999 Sqft,Patio Home,Yard</td>\n",
              "    </tr>\n",
              "    <tr>\n",
              "      <th>ParkingFeatures</th>\n",
              "      <td>Direct Garage Access,Driveway,Driveway - Concrete</td>\n",
              "    </tr>\n",
              "    <tr>\n",
              "      <th>Pool</th>\n",
              "      <td>Private Pool</td>\n",
              "    </tr>\n",
              "    <tr>\n",
              "      <th>PublicRemarks</th>\n",
              "      <td>Beautiful Spacious home in the South Hills area of West Covina. As you enter through the double entry doors you see the step down formal living room with vaulted ceiling and plantation shutters with a formal dining room adjacent to the living room that has french doors leading to the backyard. The family room is off the open kitchen which both overlook the backyard. The spacious family room has tile flooring, fireplace, and wet bar. This home features 4 bedrooms, one of which is the Master bedroom en-suite. This master suite has its own sitting area with wet bar and fireplace to enjoy while reading a book or having a glass of wine. The updated master bath is attached with beautiful individual shower and large tub, dual sinks and lots of counter space. There is also a full bath upstairs with dual sink ,tub and shower. The 3 car attached garage has direct access to the house and backyard.Great entertaining home with a beautiful outdoor kitchen area with built in BBQ, sink, and mini fridge along with seating for several guests to enjoy. The added bonus is a outdoor fireplace to enjoy on cool nights. The large swimming pool features a spa and waterfall. Lots of fruit trees and very private. The home is near Cal Poly, Mt Sac Junior College, shops, restaurants and near the 10, 60 and 57 freeways. This home is also near the South Hills Country Club and golf course. A Must see! The lot is over 20,000 sq. ft. Front yard has a view of Mt Baldy and mountain range.</td>\n",
              "    </tr>\n",
              "    <tr>\n",
              "      <th>Roof</th>\n",
              "      <td>Tile/Clay</td>\n",
              "    </tr>\n",
              "    <tr>\n",
              "      <th>RoomsDiningDescription</th>\n",
              "      <td>Eat In Kitchen</td>\n",
              "    </tr>\n",
              "    <tr>\n",
              "      <th>RoomsLaundryDescription</th>\n",
              "      <td>Individual Room</td>\n",
              "    </tr>\n",
              "    <tr>\n",
              "      <th>RoomsOtherDescription</th>\n",
              "      <td>All Bedrooms Up,Family Room,Formal Entry,Kitchen,Laundry,Living Room,Master Bathroom,Master Bedroom,Master Suite</td>\n",
              "    </tr>\n",
              "    <tr>\n",
              "      <th>StoriesDesc</th>\n",
              "      <td>2 Story</td>\n",
              "    </tr>\n",
              "    <tr>\n",
              "      <th>Style</th>\n",
              "      <td>Patio Home</td>\n",
              "    </tr>\n",
              "    <tr>\n",
              "      <th>UtilitiesSewer</th>\n",
              "      <td>Public Sewer</td>\n",
              "    </tr>\n",
              "    <tr>\n",
              "      <th>UtilitiesWater</th>\n",
              "      <td>Public,Water District</td>\n",
              "    </tr>\n",
              "    <tr>\n",
              "      <th>ViewDescription</th>\n",
              "      <td>Mountains/Hills</td>\n",
              "    </tr>\n",
              "    <tr>\n",
              "      <th>Zoning</th>\n",
              "      <td>NaN</td>\n",
              "    </tr>\n",
              "    <tr>\n",
              "      <th>Exterior</th>\n",
              "      <td>NaN</td>\n",
              "    </tr>\n",
              "    <tr>\n",
              "      <th>Fencing</th>\n",
              "      <td>NaN</td>\n",
              "    </tr>\n",
              "    <tr>\n",
              "      <th>Floors</th>\n",
              "      <td>NaN</td>\n",
              "    </tr>\n",
              "    <tr>\n",
              "      <th>SecurityFeatures</th>\n",
              "      <td>NaN</td>\n",
              "    </tr>\n",
              "    <tr>\n",
              "      <th>Utilities</th>\n",
              "      <td>NaN</td>\n",
              "    </tr>\n",
              "    <tr>\n",
              "      <th>HeatingFuel</th>\n",
              "      <td>NaN</td>\n",
              "    </tr>\n",
              "    <tr>\n",
              "      <th>IrrigationSource</th>\n",
              "      <td>NaN</td>\n",
              "    </tr>\n",
              "    <tr>\n",
              "      <th>Amenities1</th>\n",
              "      <td>NaN</td>\n",
              "    </tr>\n",
              "    <tr>\n",
              "      <th>Amenities2</th>\n",
              "      <td>NaN</td>\n",
              "    </tr>\n",
              "  </tbody>\n",
              "</table>\n",
              "</div>"
            ],
            "text/plain": [
              "                                                                                                                                                                                                                                                                                                                                                                                                                                                                                                                                                                                                                                                                                                                                                                                                                                                                                                                                                                                                                                                                                                                                                                                                                                                                                                                                                                                                                                                                                                                                                             0\n",
              "AgentRemarks             Beautiful Spacious home in the South Hills area of West Covina. As you enter through the double entry doors you see the step down formal living room with vaulted ceiling and plantation shutters with a formal dining room adjacent to the living room that has french doors leading to the backyard. The family room is off the open kitchen which both overlook the backyard. The spacious family room has tile flooring, fireplace, and wet bar. This home features 4 bedrooms, one of which is the Master bedroom en-suite. This master suite has its own sitting area with wet bar and fireplace to enjoy while reading a book or having a glass of wine. The updated master bath is attached with beautiful individual shower and large tub, dual sinks and lots of counter space. There is also a full bath upstairs with dual sink ,tub and shower. The 3 car attached garage has direct access to the house and backyard.Great entertaining home with a beautiful outdoor kitchen area with built in BBQ, sink, and mini fridge along with seating for several guests to enjoy. The added bonus is a outdoor fireplace to enjoy on cool nights. The large swimming pool features a spa and waterfall. Lots of fruit trees and very private. The home is near Cal Poly, Mt Sac Junior College, shops, restaurants and near the 10, 60 and 57 freeways. This home is also near the South Hills Country Club and golf course. A Must see! The lot is over 20,000 sq. ft. Front yard has a view of Mt Baldy and mountain range.\n",
              "Appliances                                                                                                                                                                                                                                                                                                                                                                                                                                                                                                                                                                                                                                                                                                                                                                                                                                                                                                                                                                                                                                                                                                                                                                                                                                                                                                                                                                                                                                                                                    Barbecue,Built-In Range,Dishwasher,Electric Cooktop,Refrigerator\n",
              "Cooling                                                                                                                                                                                                                                                                                                                                                                                                                                                                                                                                                                                                                                                                                                                                                                                                                                                                                                                                                                                                                                                                                                                                                                                                                                                                                                                                                                                                                                                                                                                             Ceiling Fan(s),Central A/C\n",
              "Directions                                                                                                                                                                                                                                                                                                                                                                                                                                                                                                                                                                                                                                                                                                                                                                                                                                                                                                                                                                                                                                                                                                                                                                                                                                                                                                                                                                                                                                                                                                                            West of Citrus S/Cameron\n",
              "GarageStyle                                                                                                                                                                                                                                                                                                                                                                                                                                                                                                                                                                                                                                                                                                                                                                                                                                                                                                                                                                                                                                                                                                                                                                                                                                                                                                                                                                                                                                                                                                             Direct Garage Access,Driveway,Concrete\n",
              "Heating                                                                                                                                                                                                                                                                                                                                                                                                                                                                                                                                                                                                                                                                                                                                                                                                                                                                                                                                                                                                                                                                                                                                                                                                                                                                                                                                                                                                                                                                                                                                        Forced Air Unit\n",
              "LotDesc                                                                                                                                                                                                                                                                                                                                                                                                                                                                                                                                                                                                                                                                                                                                                                                                                                                                                                                                                                                                                                                                                                                                                                                                                                                                                                                                                                                                                                                                                              Back Yard,Front Yard,Lot 20000-39999 Sqft,Patio Home,Yard\n",
              "ParkingFeatures                                                                                                                                                                                                                                                                                                                                                                                                                                                                                                                                                                                                                                                                                                                                                                                                                                                                                                                                                                                                                                                                                                                                                                                                                                                                                                                                                                                                                                                                                              Direct Garage Access,Driveway,Driveway - Concrete\n",
              "Pool                                                                                                                                                                                                                                                                                                                                                                                                                                                                                                                                                                                                                                                                                                                                                                                                                                                                                                                                                                                                                                                                                                                                                                                                                                                                                                                                                                                                                                                                                                                                              Private Pool\n",
              "PublicRemarks            Beautiful Spacious home in the South Hills area of West Covina. As you enter through the double entry doors you see the step down formal living room with vaulted ceiling and plantation shutters with a formal dining room adjacent to the living room that has french doors leading to the backyard. The family room is off the open kitchen which both overlook the backyard. The spacious family room has tile flooring, fireplace, and wet bar. This home features 4 bedrooms, one of which is the Master bedroom en-suite. This master suite has its own sitting area with wet bar and fireplace to enjoy while reading a book or having a glass of wine. The updated master bath is attached with beautiful individual shower and large tub, dual sinks and lots of counter space. There is also a full bath upstairs with dual sink ,tub and shower. The 3 car attached garage has direct access to the house and backyard.Great entertaining home with a beautiful outdoor kitchen area with built in BBQ, sink, and mini fridge along with seating for several guests to enjoy. The added bonus is a outdoor fireplace to enjoy on cool nights. The large swimming pool features a spa and waterfall. Lots of fruit trees and very private. The home is near Cal Poly, Mt Sac Junior College, shops, restaurants and near the 10, 60 and 57 freeways. This home is also near the South Hills Country Club and golf course. A Must see! The lot is over 20,000 sq. ft. Front yard has a view of Mt Baldy and mountain range.\n",
              "Roof                                                                                                                                                                                                                                                                                                                                                                                                                                                                                                                                                                                                                                                                                                                                                                                                                                                                                                                                                                                                                                                                                                                                                                                                                                                                                                                                                                                                                                                                                                                                                 Tile/Clay\n",
              "RoomsDiningDescription                                                                                                                                                                                                                                                                                                                                                                                                                                                                                                                                                                                                                                                                                                                                                                                                                                                                                                                                                                                                                                                                                                                                                                                                                                                                                                                                                                                                                                                                                                                          Eat In Kitchen\n",
              "RoomsLaundryDescription                                                                                                                                                                                                                                                                                                                                                                                                                                                                                                                                                                                                                                                                                                                                                                                                                                                                                                                                                                                                                                                                                                                                                                                                                                                                                                                                                                                                                                                                                                                        Individual Room\n",
              "RoomsOtherDescription                                                                                                                                                                                                                                                                                                                                                                                                                                                                                                                                                                                                                                                                                                                                                                                                                                                                                                                                                                                                                                                                                                                                                                                                                                                                                                                                                                                                                         All Bedrooms Up,Family Room,Formal Entry,Kitchen,Laundry,Living Room,Master Bathroom,Master Bedroom,Master Suite\n",
              "StoriesDesc                                                                                                                                                                                                                                                                                                                                                                                                                                                                                                                                                                                                                                                                                                                                                                                                                                                                                                                                                                                                                                                                                                                                                                                                                                                                                                                                                                                                                                                                                                                                            2 Story\n",
              "Style                                                                                                                                                                                                                                                                                                                                                                                                                                                                                                                                                                                                                                                                                                                                                                                                                                                                                                                                                                                                                                                                                                                                                                                                                                                                                                                                                                                                                                                                                                                                               Patio Home\n",
              "UtilitiesSewer                                                                                                                                                                                                                                                                                                                                                                                                                                                                                                                                                                                                                                                                                                                                                                                                                                                                                                                                                                                                                                                                                                                                                                                                                                                                                                                                                                                                                                                                                                                                    Public Sewer\n",
              "UtilitiesWater                                                                                                                                                                                                                                                                                                                                                                                                                                                                                                                                                                                                                                                                                                                                                                                                                                                                                                                                                                                                                                                                                                                                                                                                                                                                                                                                                                                                                                                                                                                           Public,Water District\n",
              "ViewDescription                                                                                                                                                                                                                                                                                                                                                                                                                                                                                                                                                                                                                                                                                                                                                                                                                                                                                                                                                                                                                                                                                                                                                                                                                                                                                                                                                                                                                                                                                                                                Mountains/Hills\n",
              "Zoning                                                                                                                                                                                                                                                                                                                                                                                                                                                                                                                                                                                                                                                                                                                                                                                                                                                                                                                                                                                                                                                                                                                                                                                                                                                                                                                                                                                                                                                                                                                                                     NaN\n",
              "Exterior                                                                                                                                                                                                                                                                                                                                                                                                                                                                                                                                                                                                                                                                                                                                                                                                                                                                                                                                                                                                                                                                                                                                                                                                                                                                                                                                                                                                                                                                                                                                                   NaN\n",
              "Fencing                                                                                                                                                                                                                                                                                                                                                                                                                                                                                                                                                                                                                                                                                                                                                                                                                                                                                                                                                                                                                                                                                                                                                                                                                                                                                                                                                                                                                                                                                                                                                    NaN\n",
              "Floors                                                                                                                                                                                                                                                                                                                                                                                                                                                                                                                                                                                                                                                                                                                                                                                                                                                                                                                                                                                                                                                                                                                                                                                                                                                                                                                                                                                                                                                                                                                                                     NaN\n",
              "SecurityFeatures                                                                                                                                                                                                                                                                                                                                                                                                                                                                                                                                                                                                                                                                                                                                                                                                                                                                                                                                                                                                                                                                                                                                                                                                                                                                                                                                                                                                                                                                                                                                           NaN\n",
              "Utilities                                                                                                                                                                                                                                                                                                                                                                                                                                                                                                                                                                                                                                                                                                                                                                                                                                                                                                                                                                                                                                                                                                                                                                                                                                                                                                                                                                                                                                                                                                                                                  NaN\n",
              "HeatingFuel                                                                                                                                                                                                                                                                                                                                                                                                                                                                                                                                                                                                                                                                                                                                                                                                                                                                                                                                                                                                                                                                                                                                                                                                                                                                                                                                                                                                                                                                                                                                                NaN\n",
              "IrrigationSource                                                                                                                                                                                                                                                                                                                                                                                                                                                                                                                                                                                                                                                                                                                                                                                                                                                                                                                                                                                                                                                                                                                                                                                                                                                                                                                                                                                                                                                                                                                                           NaN\n",
              "Amenities1                                                                                                                                                                                                                                                                                                                                                                                                                                                                                                                                                                                                                                                                                                                                                                                                                                                                                                                                                                                                                                                                                                                                                                                                                                                                                                                                                                                                                                                                                                                                                 NaN\n",
              "Amenities2                                                                                                                                                                                                                                                                                                                                                                                                                                                                                                                                                                                                                                                                                                                                                                                                                                                                                                                                                                                                                                                                                                                                                                                                                                                                                                                                                                                                                                                                                                                                                 NaN"
            ]
          },
          "metadata": {
            "tags": []
          }
        },
        {
          "output_type": "display_data",
          "data": {
            "text/html": [
              "<div>\n",
              "<style scoped>\n",
              "    .dataframe tbody tr th:only-of-type {\n",
              "        vertical-align: middle;\n",
              "    }\n",
              "\n",
              "    .dataframe tbody tr th {\n",
              "        vertical-align: top;\n",
              "    }\n",
              "\n",
              "    .dataframe thead th {\n",
              "        text-align: right;\n",
              "    }\n",
              "</style>\n",
              "<table border=\"1\" class=\"dataframe\">\n",
              "  <thead>\n",
              "    <tr style=\"text-align: right;\">\n",
              "      <th></th>\n",
              "      <th>ID</th>\n",
              "      <th>AllText</th>\n",
              "    </tr>\n",
              "  </thead>\n",
              "  <tbody>\n",
              "    <tr>\n",
              "      <th>0</th>\n",
              "      <td>0493057004_2020-02-14</td>\n",
              "      <td>PublicRemarks: Beautiful Spacious home in the South Hills area of West Covina. As you enter through the double entry doors you see the step down formal living room with vaulted ceiling and plantation shutters with a formal dining room adjacent to the living room that has french doors leading to the backyard. The family room is off the open kitchen which both overlook the backyard. The spacious family room has tile flooring, fireplace, and wet bar. This home features 4 bedrooms, one of which is the Master bedroom en-suite. This master suite has its own sitting area with wet bar and fireplace to enjoy while reading a book or having a glass of wine. The updated master bath is attached with beautiful individual shower and large tub, dual sinks and lots of counter space. There is also a full bath upstairs with dual sink ,tub and shower. The 3 car attached garage has direct access to the house and backyard.Great entertaining home with a beautiful outdoor kitchen area with built in BBQ, sink, and mini fridge along with seating for several guests to enjoy. The added bonus is a outdoor fireplace to enjoy on cool nights. The large swimming pool features a spa and waterfall. Lots of fruit trees and very private. The home is near Cal Poly, Mt Sac Junior College, shops, restaurants and near the 10, 60 and 57 freeways. This home is also near the South Hills Country Club and golf course. A Must see! The lot is over 20,000 sq. ft. Front yard has a view of Mt Baldy and mountain range.; AgentRemarks: Beautiful Spacious home in the South Hills area of West Covina. As you enter through the double entry doors you see the step down formal living room with vaulted ceiling and plantation shutters with a formal dining room adjacent to the living room that has french doors leading to the backyard. The family room is off the open kitchen which both overlook the backyard. The spacious family room has tile flooring, fireplace, and wet bar. This home features 4 bedrooms, one of which is the Master bedroom en-suite. This master suite has its own sitting area with wet bar and fireplace to enjoy while reading a book or having a glass of wine. The updated master bath is attached with beautiful individual shower and large tub, dual sinks and lots of counter space. There is also a full bath upstairs with dual sink ,tub and shower. The 3 car attached garage has direct access to the house and backyard.Great entertaining home with a beautiful outdoor kitchen area with built in BBQ, sink, and mini fridge along with seating for several guests to enjoy. The added bonus is a outdoor fireplace to enjoy on cool nights. The large swimming pool features a spa and waterfall. Lots of fruit trees and very private. The home is near Cal Poly, Mt Sac Junior College, shops, restaurants and near the 10, 60 and 57 freeways. This home is also near the South Hills Country Club and golf course. A Must see! The lot is over 20,000 sq. ft. Front yard has a view of Mt Baldy and mountain range.; RoomsOtherDescription: All Bedrooms Up,Family Room,Formal Entry,Kitchen,Laundry,Living Room,Master Bathroom,Master Bedroom,Master Suite; Directions: West of Citrus S/Cameron; LotDesc: Back Yard,Front Yard,Lot 20000-39999 Sqft,Patio Home,Yard; RoomsLaundryDescription: Individual Room; Appliances: Barbecue,Built-In Range,Dishwasher,Electric Cooktop,Refrigerator; GarageStyle: Direct Garage Access,Driveway,Concrete; ParkingFeatures: Direct Garage Access,Driveway,Driveway - Concrete; UtilitiesWater: Public,Water District; ViewDescription: Mountains/Hills; RoomsDiningDescription: Eat In Kitchen; UtilitiesSewer: Public Sewer; Cooling: Ceiling Fan(s),Central A/C; Heating: Forced Air Unit; Pool: Private Pool; StoriesDesc: 2 Story; Style: Patio Home; Roof: Tile/Clay</td>\n",
              "    </tr>\n",
              "  </tbody>\n",
              "</table>\n",
              "</div>"
            ],
            "text/plain": [
              "                      ID                                                                                                                                                                                                                                                                                                                                                                                                                                                                                                                                                                                                                                                                                                                                                                                                                                                                                                                                                                                                                                                                                                                                                                                                                                                                                                                                                                                                                                                                                                                                                                                                                                                                                                                                                                                                                                                                                                                                                                                                                                                                                                                                                                                                                                                                                                                                                                                                                                                                                                                                                                                                                                                                                                                                                                                                                                                                                                                                                                                                                                                                                                                                                                                                                                                                                                                                                                                                                                                                                                                                                                                                                                                                                                                                                                                                                                                                                                    AllText\n",
              "0  0493057004_2020-02-14  PublicRemarks: Beautiful Spacious home in the South Hills area of West Covina. As you enter through the double entry doors you see the step down formal living room with vaulted ceiling and plantation shutters with a formal dining room adjacent to the living room that has french doors leading to the backyard. The family room is off the open kitchen which both overlook the backyard. The spacious family room has tile flooring, fireplace, and wet bar. This home features 4 bedrooms, one of which is the Master bedroom en-suite. This master suite has its own sitting area with wet bar and fireplace to enjoy while reading a book or having a glass of wine. The updated master bath is attached with beautiful individual shower and large tub, dual sinks and lots of counter space. There is also a full bath upstairs with dual sink ,tub and shower. The 3 car attached garage has direct access to the house and backyard.Great entertaining home with a beautiful outdoor kitchen area with built in BBQ, sink, and mini fridge along with seating for several guests to enjoy. The added bonus is a outdoor fireplace to enjoy on cool nights. The large swimming pool features a spa and waterfall. Lots of fruit trees and very private. The home is near Cal Poly, Mt Sac Junior College, shops, restaurants and near the 10, 60 and 57 freeways. This home is also near the South Hills Country Club and golf course. A Must see! The lot is over 20,000 sq. ft. Front yard has a view of Mt Baldy and mountain range.; AgentRemarks: Beautiful Spacious home in the South Hills area of West Covina. As you enter through the double entry doors you see the step down formal living room with vaulted ceiling and plantation shutters with a formal dining room adjacent to the living room that has french doors leading to the backyard. The family room is off the open kitchen which both overlook the backyard. The spacious family room has tile flooring, fireplace, and wet bar. This home features 4 bedrooms, one of which is the Master bedroom en-suite. This master suite has its own sitting area with wet bar and fireplace to enjoy while reading a book or having a glass of wine. The updated master bath is attached with beautiful individual shower and large tub, dual sinks and lots of counter space. There is also a full bath upstairs with dual sink ,tub and shower. The 3 car attached garage has direct access to the house and backyard.Great entertaining home with a beautiful outdoor kitchen area with built in BBQ, sink, and mini fridge along with seating for several guests to enjoy. The added bonus is a outdoor fireplace to enjoy on cool nights. The large swimming pool features a spa and waterfall. Lots of fruit trees and very private. The home is near Cal Poly, Mt Sac Junior College, shops, restaurants and near the 10, 60 and 57 freeways. This home is also near the South Hills Country Club and golf course. A Must see! The lot is over 20,000 sq. ft. Front yard has a view of Mt Baldy and mountain range.; RoomsOtherDescription: All Bedrooms Up,Family Room,Formal Entry,Kitchen,Laundry,Living Room,Master Bathroom,Master Bedroom,Master Suite; Directions: West of Citrus S/Cameron; LotDesc: Back Yard,Front Yard,Lot 20000-39999 Sqft,Patio Home,Yard; RoomsLaundryDescription: Individual Room; Appliances: Barbecue,Built-In Range,Dishwasher,Electric Cooktop,Refrigerator; GarageStyle: Direct Garage Access,Driveway,Concrete; ParkingFeatures: Direct Garage Access,Driveway,Driveway - Concrete; UtilitiesWater: Public,Water District; ViewDescription: Mountains/Hills; RoomsDiningDescription: Eat In Kitchen; UtilitiesSewer: Public Sewer; Cooling: Ceiling Fan(s),Central A/C; Heating: Forced Air Unit; Pool: Private Pool; StoriesDesc: 2 Story; Style: Patio Home; Roof: Tile/Clay"
            ]
          },
          "metadata": {
            "tags": []
          }
        }
      ]
    },
    {
      "cell_type": "markdown",
      "metadata": {
        "id": "Culs0JzbGsxb",
        "colab_type": "text"
      },
      "source": [
        "# Creating Training Labels for AutoML"
      ]
    },
    {
      "cell_type": "markdown",
      "metadata": {
        "id": "S4YMhVqGG_qa",
        "colab_type": "text"
      },
      "source": [
        "Google AutoML can be used to build a NLP model that classifies records based on text information. But before building AutoML, it is necessary to categorize the data set records and create training labels for each category.\n",
        "\n",
        "The dataset already contains one set of training labels for the listings categrozied by the ratio of ClosePrice to ListPrice. Depending on market conditions, more attractive properties will sell at larger premiums to their listing prices than less attractive properties. We may be able to predict the range of this premium with an NLP model that uses the contents of the `AllText` fields as an input.\n",
        "\n",
        "The categories/labels are designed as follow:\n",
        "\n",
        "`IF ClosePrice/ListPrice > 1.10 THEN ClosePriceListPrice_Ratio_Cat = 4` \n",
        " \n",
        "`IF ClosePrice/ListPrice > 1.05 AND ClosePrice/ListPrice <= 1.10 THEN ClosePriceListPrice_Ratio_Cat = 3`\n",
        "\n",
        "`IF ClosePrice/ListPrice > 1.00 AND ClosePrice/ListPrice <= 1.05 THEN ClosePriceListPrice_Ratio_Cat = 2`\n",
        "\n",
        "`IF ClosePrice/ListPrice > 0.95 AND ClosePrice/ListPrice <= 1.00 THEN ClosePriceListPrice_Ratio_Cat = 1`\n",
        "\n",
        "`ELSE ClosePriceListPrice_Ratio_Cat = 0`  "
      ]
    },
    {
      "cell_type": "code",
      "metadata": {
        "id": "kYxKWMYiGyIa",
        "colab_type": "code",
        "colab": {
          "base_uri": "https://localhost:8080/",
          "height": 119
        },
        "outputId": "ecf63998-e16d-4b5e-d856-86cb2d4f772c"
      },
      "source": [
        "mls_df['ClosePriceListPrice_Ratio_Cat'].value_counts(sort=False)"
      ],
      "execution_count": 60,
      "outputs": [
        {
          "output_type": "execute_result",
          "data": {
            "text/plain": [
              "0    18087\n",
              "1    79592\n",
              "2    47120\n",
              "3    10362\n",
              "4     5854\n",
              "Name: ClosePriceListPrice_Ratio_Cat, dtype: int64"
            ]
          },
          "metadata": {
            "tags": []
          },
          "execution_count": 60
        }
      ]
    },
    {
      "cell_type": "markdown",
      "metadata": {
        "id": "cDTtP5Sq-5KO",
        "colab_type": "text"
      },
      "source": [
        "You can also create your own categories (with training labels). Maybe five categories of `ClosePrice` to `ListPrice` ratios is too many. We can create another label that separates the listings into three categories."
      ]
    },
    {
      "cell_type": "code",
      "metadata": {
        "id": "iJ0G_USD_Wql",
        "colab_type": "code",
        "colab": {
          "base_uri": "https://localhost:8080/",
          "height": 85
        },
        "outputId": "8295e9c5-5b91-4123-9ac4-b1729330a953"
      },
      "source": [
        "# Function to set label for one record\n",
        "def func(row):\n",
        "    if row['ClosePrice']/row['ListPrice'] > 1.025:\n",
        "        return 'Premium'\n",
        "    elif (row['ClosePrice']/row['ListPrice'] <= 1.025 and\n",
        "          row['ClosePrice']/row['ListPrice'] > 0.975):\n",
        "        return 'Normal'\n",
        "    else:\n",
        "        return 'Discount'\n",
        "\n",
        "# Apply function to all records\n",
        "mls_df['ClosePriceListPrice_Ratio_Cat2'] = mls_df.apply(func, axis=1)\n",
        "\n",
        "mls_df['ClosePriceListPrice_Ratio_Cat2'].value_counts(sort=False)"
      ],
      "execution_count": 68,
      "outputs": [
        {
          "output_type": "execute_result",
          "data": {
            "text/plain": [
              "Discount    38632\n",
              "Premium     30240\n",
              "Normal      92143\n",
              "Name: ClosePriceListPrice_Ratio_Cat2, dtype: int64"
            ]
          },
          "metadata": {
            "tags": []
          },
          "execution_count": 68
        }
      ]
    }
  ]
}