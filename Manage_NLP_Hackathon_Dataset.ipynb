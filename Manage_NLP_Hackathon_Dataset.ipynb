{
  "nbformat": 4,
  "nbformat_minor": 0,
  "metadata": {
    "colab": {
      "name": "External data: Local Files, Drive, Sheets, and Cloud Storage",
      "provenance": [],
      "collapsed_sections": [],
      "toc_visible": true,
      "include_colab_link": true
    },
    "kernelspec": {
      "display_name": "Python 3",
      "name": "python3"
    }
  },
  "cells": [
    {
      "cell_type": "markdown",
      "metadata": {
        "id": "view-in-github",
        "colab_type": "text"
      },
      "source": [
        "<a href=\"https://colab.research.google.com/github/dstiff-clgx/2019-Hackathon/blob/master/Manage_NLP_Hackathon_Dataset.ipynb\" target=\"_parent\"><img src=\"https://colab.research.google.com/assets/colab-badge.svg\" alt=\"Open In Colab\"/></a>"
      ]
    },
    {
      "cell_type": "markdown",
      "metadata": {
        "colab_type": "text",
        "id": "S7c8WYyQdh5i"
      },
      "source": [
        "# Connecting to Google Cloud storage\n",
        "\n",
        "The MLS data sets is stored in a Google Cloud storage bucket. To access the dataset, you must first specify your project ID and the bucket name.\n"
      ]
    },
    {
      "cell_type": "code",
      "metadata": {
        "colab_type": "code",
        "id": "VYC5CyAbAtU7",
        "colab": {}
      },
      "source": [
        "project_id = 'clgx-analytics2-65bd'\n",
        "\n",
        "bucket_name = 'clgx-analytics2-tiger-team'"
      ],
      "execution_count": 1,
      "outputs": []
    },
    {
      "cell_type": "markdown",
      "metadata": {
        "colab_type": "text",
        "id": "-OtHMRVda9pJ"
      },
      "source": [
        "In order to access Google Cloud storage, we must authenticate. (This only needs to be done once.)\n"
      ]
    },
    {
      "cell_type": "code",
      "metadata": {
        "colab_type": "code",
        "id": "NQX0hbfYaEKc",
        "colab": {
          "base_uri": "https://localhost:8080/",
          "height": 1000
        },
        "outputId": "775cb476-6830-4248-b501-ec9948e0273f"
      },
      "source": [
        "# !pip install google-colab    # If google-colab is not installed on your VM, uncomment this line\n",
        "\n",
        "# from google.colab import auth\n",
        "# auth.authenticate_user()"
      ],
      "execution_count": null,
      "outputs": [
        {
          "output_type": "stream",
          "text": [
            "Collecting google-colab\n",
            "\u001b[?25l  Downloading https://files.pythonhosted.org/packages/70/9f/d3ec1275a089ec017f9c91af22ecd1e2fe738254b944e7a1f9528fcfacd0/google-colab-1.0.0.tar.gz (72kB)\n",
            "\u001b[K     |████████████████████████████████| 81kB 4.3MB/s \n",
            "\u001b[?25hCollecting google-auth~=1.4.0 (from google-colab)\n",
            "\u001b[?25l  Downloading https://files.pythonhosted.org/packages/56/80/369a47c28ce7d9be6a6973338133d073864d8efbb62747e414c34a3a5f4f/google_auth-1.4.2-py2.py3-none-any.whl (64kB)\n",
            "\u001b[K     |████████████████████████████████| 71kB 7.3MB/s \n",
            "\u001b[?25hCollecting ipykernel~=4.6.0 (from google-colab)\n",
            "\u001b[?25l  Downloading https://files.pythonhosted.org/packages/18/c3/76775a650cae2e3d9c033b26153583e61282692d9a3af12a3022d8f0cefa/ipykernel-4.6.1-py3-none-any.whl (104kB)\n",
            "\u001b[K     |████████████████████████████████| 112kB 6.6MB/s \n",
            "\u001b[?25hCollecting ipython~=5.5.0 (from google-colab)\n",
            "\u001b[?25l  Downloading https://files.pythonhosted.org/packages/07/63/c987612bcf82c56eaacaf6bf01e31e53a244a0a3a0fb036ec5adc377e0fe/ipython-5.5.0-py3-none-any.whl (758kB)\n",
            "\u001b[K     |████████████████████████████████| 768kB 7.0MB/s \n",
            "\u001b[?25hCollecting notebook~=5.2.0 (from google-colab)\n",
            "\u001b[?25l  Downloading https://files.pythonhosted.org/packages/96/a2/d951ebb7855743f989287486ded73cd3f66915c3ecd9c5c5a0c7ca12377a/notebook-5.2.2-py2.py3-none-any.whl (8.0MB)\n",
            "\u001b[K     |████████████████████████████████| 8.0MB 9.3MB/s \n",
            "\u001b[?25hCollecting six~=1.12.0 (from google-colab)\n",
            "  Downloading https://files.pythonhosted.org/packages/73/fb/00a976f728d0d1fecfe898238ce23f502a721c0ac0ecfedb80e0d88c64e9/six-1.12.0-py2.py3-none-any.whl\n",
            "Collecting pandas~=0.24.0 (from google-colab)\n",
            "\u001b[?25l  Downloading https://files.pythonhosted.org/packages/19/74/e50234bc82c553fecdbd566d8650801e3fe2d6d8c8d940638e3d8a7c5522/pandas-0.24.2-cp36-cp36m-manylinux1_x86_64.whl (10.1MB)\n",
            "\u001b[K     |████████████████████████████████| 10.1MB 22.8MB/s \n",
            "\u001b[?25hCollecting portpicker~=1.2.0 (from google-colab)\n",
            "  Downloading https://files.pythonhosted.org/packages/49/2c/a75ef568273036aa61319a554164e6031e31708106ea6ca10e17265e1703/portpicker-1.2.0.tar.gz\n",
            "Collecting requests~=2.21.0 (from google-colab)\n",
            "\u001b[?25l  Downloading https://files.pythonhosted.org/packages/7d/e3/20f3d364d6c8e5d2353c72a67778eb189176f08e873c9900e10c0287b84b/requests-2.21.0-py2.py3-none-any.whl (57kB)\n",
            "\u001b[K     |████████████████████████████████| 61kB 29.1MB/s \n",
            "\u001b[?25hCollecting tornado~=4.5.0 (from google-colab)\n",
            "\u001b[?25l  Downloading https://files.pythonhosted.org/packages/e3/7b/e29ab3d51c8df66922fea216e2bddfcb6430fb29620e5165b16a216e0d3c/tornado-4.5.3.tar.gz (484kB)\n",
            "\u001b[K     |████████████████████████████████| 491kB 59.3MB/s \n",
            "\u001b[?25hRequirement already satisfied: pyasn1-modules>=0.2.1 in /opt/conda/anaconda/lib/python3.6/site-packages (from google-auth~=1.4.0->google-colab) (0.2.5)\n",
            "Requirement already satisfied: rsa>=3.1.4 in /opt/conda/anaconda/lib/python3.6/site-packages (from google-auth~=1.4.0->google-colab) (4.0)\n",
            "Requirement already satisfied: cachetools>=2.0.0 in /opt/conda/anaconda/lib/python3.6/site-packages (from google-auth~=1.4.0->google-colab) (3.1.0)\n",
            "Requirement already satisfied: jupyter-client in /opt/conda/anaconda/lib/python3.6/site-packages (from ipykernel~=4.6.0->google-colab) (5.2.3)\n",
            "Requirement already satisfied: traitlets>=4.1.0 in /opt/conda/anaconda/lib/python3.6/site-packages (from ipykernel~=4.6.0->google-colab) (4.3.2)\n",
            "Requirement already satisfied: simplegeneric>0.8 in /opt/conda/anaconda/lib/python3.6/site-packages (from ipython~=5.5.0->google-colab) (0.8.1)\n",
            "Requirement already satisfied: setuptools>=18.5 in /opt/conda/anaconda/lib/python3.6/site-packages (from ipython~=5.5.0->google-colab) (39.1.0)\n",
            "Requirement already satisfied: pickleshare in /opt/conda/anaconda/lib/python3.6/site-packages (from ipython~=5.5.0->google-colab) (0.7.4)\n",
            "Requirement already satisfied: prompt-toolkit<2.0.0,>=1.0.4 in /opt/conda/anaconda/lib/python3.6/site-packages (from ipython~=5.5.0->google-colab) (1.0.15)\n",
            "Requirement already satisfied: decorator in /opt/conda/anaconda/lib/python3.6/site-packages (from ipython~=5.5.0->google-colab) (4.3.0)\n",
            "Requirement already satisfied: pexpect; sys_platform != \"win32\" in /opt/conda/anaconda/lib/python3.6/site-packages (from ipython~=5.5.0->google-colab) (4.5.0)\n",
            "Requirement already satisfied: pygments in /opt/conda/anaconda/lib/python3.6/site-packages (from ipython~=5.5.0->google-colab) (2.2.0)\n",
            "Requirement already satisfied: nbconvert in /opt/conda/anaconda/lib/python3.6/site-packages (from notebook~=5.2.0->google-colab) (5.3.1)\n",
            "Requirement already satisfied: terminado>=0.3.3; sys_platform != \"win32\" in /opt/conda/anaconda/lib/python3.6/site-packages (from notebook~=5.2.0->google-colab) (0.8.1)\n",
            "Requirement already satisfied: jinja2 in /opt/conda/anaconda/lib/python3.6/site-packages (from notebook~=5.2.0->google-colab) (2.10)\n",
            "Requirement already satisfied: jupyter-core in /opt/conda/anaconda/lib/python3.6/site-packages (from notebook~=5.2.0->google-colab) (4.4.0)\n",
            "Requirement already satisfied: nbformat in /opt/conda/anaconda/lib/python3.6/site-packages (from notebook~=5.2.0->google-colab) (4.4.0)\n",
            "Requirement already satisfied: ipython-genutils in /opt/conda/anaconda/lib/python3.6/site-packages (from notebook~=5.2.0->google-colab) (0.2.0)\n",
            "Requirement already satisfied: pytz>=2011k in /opt/conda/anaconda/lib/python3.6/site-packages (from pandas~=0.24.0->google-colab) (2018.4)\n",
            "Requirement already satisfied: numpy>=1.12.0 in /opt/conda/anaconda/lib/python3.6/site-packages (from pandas~=0.24.0->google-colab) (1.14.3)\n",
            "Requirement already satisfied: python-dateutil>=2.5.0 in /opt/conda/anaconda/lib/python3.6/site-packages (from pandas~=0.24.0->google-colab) (2.7.3)\n",
            "Requirement already satisfied: certifi>=2017.4.17 in /opt/conda/anaconda/lib/python3.6/site-packages (from requests~=2.21.0->google-colab) (2018.4.16)\n",
            "Requirement already satisfied: idna<2.9,>=2.5 in /opt/conda/anaconda/lib/python3.6/site-packages (from requests~=2.21.0->google-colab) (2.6)\n",
            "Requirement already satisfied: urllib3<1.25,>=1.21.1 in /opt/conda/anaconda/lib/python3.6/site-packages (from requests~=2.21.0->google-colab) (1.22)\n",
            "Requirement already satisfied: chardet<3.1.0,>=3.0.2 in /opt/conda/anaconda/lib/python3.6/site-packages (from requests~=2.21.0->google-colab) (3.0.4)\n",
            "Requirement already satisfied: pyasn1<0.5.0,>=0.4.1 in /opt/conda/anaconda/lib/python3.6/site-packages (from pyasn1-modules>=0.2.1->google-auth~=1.4.0->google-colab) (0.4.5)\n",
            "Requirement already satisfied: pyzmq>=13 in /opt/conda/anaconda/lib/python3.6/site-packages (from jupyter-client->ipykernel~=4.6.0->google-colab) (17.0.0)\n",
            "Requirement already satisfied: wcwidth in /opt/conda/anaconda/lib/python3.6/site-packages (from prompt-toolkit<2.0.0,>=1.0.4->ipython~=5.5.0->google-colab) (0.1.7)\n",
            "Requirement already satisfied: ptyprocess>=0.5 in /opt/conda/anaconda/lib/python3.6/site-packages (from pexpect; sys_platform != \"win32\"->ipython~=5.5.0->google-colab) (0.5.2)\n",
            "Requirement already satisfied: mistune>=0.7.4 in /opt/conda/anaconda/lib/python3.6/site-packages (from nbconvert->notebook~=5.2.0->google-colab) (0.8.3)\n",
            "Requirement already satisfied: entrypoints>=0.2.2 in /opt/conda/anaconda/lib/python3.6/site-packages (from nbconvert->notebook~=5.2.0->google-colab) (0.2.3)\n",
            "Requirement already satisfied: bleach in /opt/conda/anaconda/lib/python3.6/site-packages (from nbconvert->notebook~=5.2.0->google-colab) (2.1.3)\n",
            "Requirement already satisfied: pandocfilters>=1.4.1 in /opt/conda/anaconda/lib/python3.6/site-packages (from nbconvert->notebook~=5.2.0->google-colab) (1.4.2)\n",
            "Requirement already satisfied: testpath in /opt/conda/anaconda/lib/python3.6/site-packages (from nbconvert->notebook~=5.2.0->google-colab) (0.3.1)\n",
            "Requirement already satisfied: MarkupSafe>=0.23 in /opt/conda/anaconda/lib/python3.6/site-packages (from jinja2->notebook~=5.2.0->google-colab) (1.0)\n",
            "Requirement already satisfied: jsonschema!=2.5.0,>=2.4 in /opt/conda/anaconda/lib/python3.6/site-packages (from nbformat->notebook~=5.2.0->google-colab) (2.6.0)\n",
            "Requirement already satisfied: html5lib!=1.0b1,!=1.0b2,!=1.0b3,!=1.0b4,!=1.0b5,!=1.0b6,!=1.0b7,!=1.0b8,>=0.99999999pre in /opt/conda/anaconda/lib/python3.6/site-packages (from bleach->nbconvert->notebook~=5.2.0->google-colab) (1.0.1)\n",
            "Requirement already satisfied: webencodings in /opt/conda/anaconda/lib/python3.6/site-packages (from html5lib!=1.0b1,!=1.0b2,!=1.0b3,!=1.0b4,!=1.0b5,!=1.0b6,!=1.0b7,!=1.0b8,>=0.99999999pre->bleach->nbconvert->notebook~=5.2.0->google-colab) (0.5.1)\n",
            "Building wheels for collected packages: google-colab, portpicker, tornado\n",
            "  Building wheel for google-colab (setup.py) ... \u001b[?25l-\b \bdone\n",
            "\u001b[?25h  Stored in directory: /home/dstiff_solutions_corelogic_com/.cache/pip/wheels/38/0d/59/701e300a337b2a2e07b27fe74dbfff0bc56ac58f711566ee67\n",
            "  Building wheel for portpicker (setup.py) ... \u001b[?25l-\b \bdone\n",
            "\u001b[?25h  Stored in directory: /home/dstiff_solutions_corelogic_com/.cache/pip/wheels/4a/45/47/1e126be9d4605e71f00d6e6fb151611f2f4cb9770b050c7d2d\n",
            "  Building wheel for tornado (setup.py) ... \u001b[?25l-\b \b\\\b \b|\b \bdone\n",
            "\u001b[?25h  Stored in directory: /home/dstiff_solutions_corelogic_com/.cache/pip/wheels/72/bf/f4/b68fa69596986881b397b18ff2b9af5f8181233aadcc9f76fd\n",
            "Successfully built google-colab portpicker tornado\n",
            "\u001b[31mERROR: distributed 1.21.8 requires msgpack, which is not installed.\u001b[0m\n",
            "Installing collected packages: six, google-auth, ipython, tornado, ipykernel, notebook, pandas, portpicker, requests, google-colab\n",
            "  Found existing installation: six 1.11.0\n",
            "    Uninstalling six-1.11.0:\n",
            "\u001b[31mERROR: Could not install packages due to an EnvironmentError: [Errno 13] Permission denied: '/opt/conda/anaconda/lib/python3.6/site-packages/__pycache__/six.cpython-36.pyc'\n",
            "Consider using the `--user` option or check the permissions.\n",
            "\u001b[0m\n",
            "\u001b[33mWARNING: You are using pip version 19.1.1, however version 20.1.1 is available.\n",
            "You should consider upgrading via the 'pip install --upgrade pip' command.\u001b[0m\n"
          ],
          "name": "stdout"
        },
        {
          "output_type": "error",
          "ename": "ModuleNotFoundError",
          "evalue": "ignored",
          "traceback": [
            "\u001b[0;31m---------------------------------------------------------------------------\u001b[0m",
            "\u001b[0;31mModuleNotFoundError\u001b[0m                       Traceback (most recent call last)",
            "\u001b[0;32m<ipython-input-4-a72ec81cba88>\u001b[0m in \u001b[0;36m<module>\u001b[0;34m()\u001b[0m\n\u001b[1;32m      1\u001b[0m \u001b[0mget_ipython\u001b[0m\u001b[0;34m(\u001b[0m\u001b[0;34m)\u001b[0m\u001b[0;34m.\u001b[0m\u001b[0msystem\u001b[0m\u001b[0;34m(\u001b[0m\u001b[0;34m'pip install google-colab    # If google-colab is not installed on your VM, uncomment this line'\u001b[0m\u001b[0;34m)\u001b[0m\u001b[0;34m\u001b[0m\u001b[0m\n\u001b[1;32m      2\u001b[0m \u001b[0;34m\u001b[0m\u001b[0m\n\u001b[0;32m----> 3\u001b[0;31m \u001b[0;32mfrom\u001b[0m \u001b[0mgoogle\u001b[0m\u001b[0;34m.\u001b[0m\u001b[0mcolab\u001b[0m \u001b[0;32mimport\u001b[0m \u001b[0mauth\u001b[0m\u001b[0;34m\u001b[0m\u001b[0m\n\u001b[0m\u001b[1;32m      4\u001b[0m \u001b[0mauth\u001b[0m\u001b[0;34m.\u001b[0m\u001b[0mauthenticate_user\u001b[0m\u001b[0;34m(\u001b[0m\u001b[0;34m)\u001b[0m\u001b[0;34m\u001b[0m\u001b[0m\n",
            "\u001b[0;31mModuleNotFoundError\u001b[0m: No module named 'google.colab'"
          ]
        }
      ]
    },
    {
      "cell_type": "markdown",
      "metadata": {
        "id": "Djvza4K_Fnvy",
        "colab_type": "text"
      },
      "source": [
        "Set the project ID for gcloud (_Is this necessary?_)\n"
      ]
    },
    {
      "cell_type": "code",
      "metadata": {
        "id": "IYq_cA1QF8Hs",
        "colab_type": "code",
        "colab": {
          "base_uri": "https://localhost:8080/",
          "height": 34
        },
        "outputId": "c3a88616-ea0a-4a39-d7da-48704dcd5a1c"
      },
      "source": [
        "!gcloud config set project {project_id}"
      ],
      "execution_count": 2,
      "outputs": [
        {
          "output_type": "stream",
          "text": [
            "Updated property [core/project].\n"
          ],
          "name": "stdout"
        }
      ]
    },
    {
      "cell_type": "markdown",
      "metadata": {
        "id": "DI1klg3tFHno",
        "colab_type": "text"
      },
      "source": [
        "# Load Multiple Listing Service (MLS) dataset into Pandas data frame"
      ]
    },
    {
      "cell_type": "markdown",
      "metadata": {
        "colab_type": "text",
        "id": "NAM6vyXAfVUj"
      },
      "source": [
        "`pandas` can read a file directly from Google Cloud storage. The MLS data file is quite large, so it can take some time to read it into a data frame.\n",
        "\n",
        "`pandas` does not always assign the correct data type to columns in a CSV file. But you can set specific column types in `read_csv` by using a `dtype` dictionary. The `pandas` character type is `object`.\n",
        "\n",
        "Also include any date columns in the `parse_dates` list to automatically convert them into `datetime64` types."
      ]
    },
    {
      "cell_type": "code",
      "metadata": {
        "colab_type": "code",
        "id": "LADpx7LReOMk",
        "colab": {
          "base_uri": "https://localhost:8080/",
          "height": 816
        },
        "outputId": "bbddf123-7381-4f68-91d9-71725da596ca"
      },
      "source": [
        "!pip install gcsfs    # If gcsfs is not installed on your VM, uncomment this line\n",
        "import pandas as pd\n",
        "\n",
        "mls_df = pd.read_csv('gs://clgx-analytics2-tiger-team/Closed_Listings_06037_SFR_2017_or_Later_Tabular.csv',\n",
        "                     dtype={'FA_APN':'object',\n",
        "                            'CMAS_Zip5':'object',\n",
        "                            'CMAS_FIPS_CODE':'object'},\n",
        "                     parse_dates=['ListDate','CloseDate'])"
      ],
      "execution_count": 4,
      "outputs": [
        {
          "output_type": "stream",
          "text": [
            "Collecting gcsfs\n",
            "  Downloading https://files.pythonhosted.org/packages/ce/5c/bc61dbd2e5b61d84486a96a64ca43512c9ac085487464562182f58406290/gcsfs-0.6.2-py2.py3-none-any.whl\n",
            "Requirement already satisfied: decorator in /usr/local/lib/python3.6/dist-packages (from gcsfs) (4.4.2)\n",
            "Requirement already satisfied: fsspec>=0.6.0 in /usr/local/lib/python3.6/dist-packages (from gcsfs) (0.7.4)\n",
            "Requirement already satisfied: google-auth>=1.2 in /usr/local/lib/python3.6/dist-packages (from gcsfs) (1.17.2)\n",
            "Requirement already satisfied: requests in /usr/local/lib/python3.6/dist-packages (from gcsfs) (2.23.0)\n",
            "Requirement already satisfied: google-auth-oauthlib in /usr/local/lib/python3.6/dist-packages (from gcsfs) (0.4.1)\n",
            "Requirement already satisfied: rsa<5,>=3.1.4; python_version >= \"3\" in /usr/local/lib/python3.6/dist-packages (from google-auth>=1.2->gcsfs) (4.6)\n",
            "Requirement already satisfied: setuptools>=40.3.0 in /usr/local/lib/python3.6/dist-packages (from google-auth>=1.2->gcsfs) (49.1.0)\n",
            "Requirement already satisfied: pyasn1-modules>=0.2.1 in /usr/local/lib/python3.6/dist-packages (from google-auth>=1.2->gcsfs) (0.2.8)\n",
            "Requirement already satisfied: six>=1.9.0 in /usr/local/lib/python3.6/dist-packages (from google-auth>=1.2->gcsfs) (1.12.0)\n",
            "Requirement already satisfied: cachetools<5.0,>=2.0.0 in /usr/local/lib/python3.6/dist-packages (from google-auth>=1.2->gcsfs) (4.1.1)\n",
            "Requirement already satisfied: idna<3,>=2.5 in /usr/local/lib/python3.6/dist-packages (from requests->gcsfs) (2.10)\n",
            "Requirement already satisfied: urllib3!=1.25.0,!=1.25.1,<1.26,>=1.21.1 in /usr/local/lib/python3.6/dist-packages (from requests->gcsfs) (1.24.3)\n",
            "Requirement already satisfied: chardet<4,>=3.0.2 in /usr/local/lib/python3.6/dist-packages (from requests->gcsfs) (3.0.4)\n",
            "Requirement already satisfied: certifi>=2017.4.17 in /usr/local/lib/python3.6/dist-packages (from requests->gcsfs) (2020.6.20)\n",
            "Requirement already satisfied: requests-oauthlib>=0.7.0 in /usr/local/lib/python3.6/dist-packages (from google-auth-oauthlib->gcsfs) (1.3.0)\n",
            "Requirement already satisfied: pyasn1>=0.1.3 in /usr/local/lib/python3.6/dist-packages (from rsa<5,>=3.1.4; python_version >= \"3\"->google-auth>=1.2->gcsfs) (0.4.8)\n",
            "Requirement already satisfied: oauthlib>=3.0.0 in /usr/local/lib/python3.6/dist-packages (from requests-oauthlib>=0.7.0->google-auth-oauthlib->gcsfs) (3.1.0)\n",
            "Installing collected packages: gcsfs\n",
            "Successfully installed gcsfs-0.6.2\n"
          ],
          "name": "stdout"
        },
        {
          "output_type": "stream",
          "text": [
            "_call non-retriable exception: Anonymous caller does not have storage.objects.get access to the Google Cloud Storage object.\n",
            "Traceback (most recent call last):\n",
            "  File \"/usr/local/lib/python3.6/dist-packages/gcsfs/core.py\", line 487, in _call\n",
            "    validate_response(r, path)\n",
            "  File \"/usr/local/lib/python3.6/dist-packages/gcsfs/core.py\", line 130, in validate_response\n",
            "    raise HttpError(error)\n",
            "gcsfs.utils.HttpError: Anonymous caller does not have storage.objects.get access to the Google Cloud Storage object.\n"
          ],
          "name": "stderr"
        },
        {
          "output_type": "error",
          "ename": "HttpError",
          "evalue": "ignored",
          "traceback": [
            "\u001b[0;31m---------------------------------------------------------------------------\u001b[0m",
            "\u001b[0;31mHttpError\u001b[0m                                 Traceback (most recent call last)",
            "\u001b[0;32m<ipython-input-4-90448b154cbb>\u001b[0m in \u001b[0;36m<module>\u001b[0;34m()\u001b[0m\n\u001b[1;32m      6\u001b[0m                             \u001b[0;34m'CMAS_Zip5'\u001b[0m\u001b[0;34m:\u001b[0m\u001b[0;34m'object'\u001b[0m\u001b[0;34m,\u001b[0m\u001b[0;34m\u001b[0m\u001b[0;34m\u001b[0m\u001b[0m\n\u001b[1;32m      7\u001b[0m                             'CMAS_FIPS_CODE':'object'},\n\u001b[0;32m----> 8\u001b[0;31m                      parse_dates=['ListDate','CloseDate'])\n\u001b[0m",
            "\u001b[0;32m/usr/local/lib/python3.6/dist-packages/pandas/io/parsers.py\u001b[0m in \u001b[0;36mparser_f\u001b[0;34m(filepath_or_buffer, sep, delimiter, header, names, index_col, usecols, squeeze, prefix, mangle_dupe_cols, dtype, engine, converters, true_values, false_values, skipinitialspace, skiprows, skipfooter, nrows, na_values, keep_default_na, na_filter, verbose, skip_blank_lines, parse_dates, infer_datetime_format, keep_date_col, date_parser, dayfirst, cache_dates, iterator, chunksize, compression, thousands, decimal, lineterminator, quotechar, quoting, doublequote, escapechar, comment, encoding, dialect, error_bad_lines, warn_bad_lines, delim_whitespace, low_memory, memory_map, float_precision)\u001b[0m\n\u001b[1;32m    674\u001b[0m         )\n\u001b[1;32m    675\u001b[0m \u001b[0;34m\u001b[0m\u001b[0m\n\u001b[0;32m--> 676\u001b[0;31m         \u001b[0;32mreturn\u001b[0m \u001b[0m_read\u001b[0m\u001b[0;34m(\u001b[0m\u001b[0mfilepath_or_buffer\u001b[0m\u001b[0;34m,\u001b[0m \u001b[0mkwds\u001b[0m\u001b[0;34m)\u001b[0m\u001b[0;34m\u001b[0m\u001b[0;34m\u001b[0m\u001b[0m\n\u001b[0m\u001b[1;32m    677\u001b[0m \u001b[0;34m\u001b[0m\u001b[0m\n\u001b[1;32m    678\u001b[0m     \u001b[0mparser_f\u001b[0m\u001b[0;34m.\u001b[0m\u001b[0m__name__\u001b[0m \u001b[0;34m=\u001b[0m \u001b[0mname\u001b[0m\u001b[0;34m\u001b[0m\u001b[0;34m\u001b[0m\u001b[0m\n",
            "\u001b[0;32m/usr/local/lib/python3.6/dist-packages/pandas/io/parsers.py\u001b[0m in \u001b[0;36m_read\u001b[0;34m(filepath_or_buffer, kwds)\u001b[0m\n\u001b[1;32m    429\u001b[0m     \u001b[0;31m# See https://github.com/python/mypy/issues/1297\u001b[0m\u001b[0;34m\u001b[0m\u001b[0;34m\u001b[0m\u001b[0;34m\u001b[0m\u001b[0m\n\u001b[1;32m    430\u001b[0m     fp_or_buf, _, compression, should_close = get_filepath_or_buffer(\n\u001b[0;32m--> 431\u001b[0;31m         \u001b[0mfilepath_or_buffer\u001b[0m\u001b[0;34m,\u001b[0m \u001b[0mencoding\u001b[0m\u001b[0;34m,\u001b[0m \u001b[0mcompression\u001b[0m\u001b[0;34m\u001b[0m\u001b[0;34m\u001b[0m\u001b[0m\n\u001b[0m\u001b[1;32m    432\u001b[0m     )\n\u001b[1;32m    433\u001b[0m     \u001b[0mkwds\u001b[0m\u001b[0;34m[\u001b[0m\u001b[0;34m\"compression\"\u001b[0m\u001b[0;34m]\u001b[0m \u001b[0;34m=\u001b[0m \u001b[0mcompression\u001b[0m\u001b[0;34m\u001b[0m\u001b[0;34m\u001b[0m\u001b[0m\n",
            "\u001b[0;32m/usr/local/lib/python3.6/dist-packages/pandas/io/common.py\u001b[0m in \u001b[0;36mget_filepath_or_buffer\u001b[0;34m(filepath_or_buffer, encoding, compression, mode)\u001b[0m\n\u001b[1;32m    190\u001b[0m \u001b[0;34m\u001b[0m\u001b[0m\n\u001b[1;32m    191\u001b[0m         return gcs.get_filepath_or_buffer(\n\u001b[0;32m--> 192\u001b[0;31m             \u001b[0mfilepath_or_buffer\u001b[0m\u001b[0;34m,\u001b[0m \u001b[0mencoding\u001b[0m\u001b[0;34m=\u001b[0m\u001b[0mencoding\u001b[0m\u001b[0;34m,\u001b[0m \u001b[0mcompression\u001b[0m\u001b[0;34m=\u001b[0m\u001b[0mcompression\u001b[0m\u001b[0;34m,\u001b[0m \u001b[0mmode\u001b[0m\u001b[0;34m=\u001b[0m\u001b[0mmode\u001b[0m\u001b[0;34m\u001b[0m\u001b[0;34m\u001b[0m\u001b[0m\n\u001b[0m\u001b[1;32m    193\u001b[0m         )\n\u001b[1;32m    194\u001b[0m \u001b[0;34m\u001b[0m\u001b[0m\n",
            "\u001b[0;32m/usr/local/lib/python3.6/dist-packages/pandas/io/gcs.py\u001b[0m in \u001b[0;36mget_filepath_or_buffer\u001b[0;34m(filepath_or_buffer, encoding, compression, mode)\u001b[0m\n\u001b[1;32m     15\u001b[0m \u001b[0;34m\u001b[0m\u001b[0m\n\u001b[1;32m     16\u001b[0m     \u001b[0mfs\u001b[0m \u001b[0;34m=\u001b[0m \u001b[0mgcsfs\u001b[0m\u001b[0;34m.\u001b[0m\u001b[0mGCSFileSystem\u001b[0m\u001b[0;34m(\u001b[0m\u001b[0;34m)\u001b[0m\u001b[0;34m\u001b[0m\u001b[0;34m\u001b[0m\u001b[0m\n\u001b[0;32m---> 17\u001b[0;31m     \u001b[0mfilepath_or_buffer\u001b[0m \u001b[0;34m=\u001b[0m \u001b[0mfs\u001b[0m\u001b[0;34m.\u001b[0m\u001b[0mopen\u001b[0m\u001b[0;34m(\u001b[0m\u001b[0mfilepath_or_buffer\u001b[0m\u001b[0;34m,\u001b[0m \u001b[0mmode\u001b[0m\u001b[0;34m)\u001b[0m\u001b[0;34m\u001b[0m\u001b[0;34m\u001b[0m\u001b[0m\n\u001b[0m\u001b[1;32m     18\u001b[0m     \u001b[0;32mreturn\u001b[0m \u001b[0mfilepath_or_buffer\u001b[0m\u001b[0;34m,\u001b[0m \u001b[0;32mNone\u001b[0m\u001b[0;34m,\u001b[0m \u001b[0mcompression\u001b[0m\u001b[0;34m,\u001b[0m \u001b[0;32mTrue\u001b[0m\u001b[0;34m\u001b[0m\u001b[0;34m\u001b[0m\u001b[0m\n",
            "\u001b[0;32m/usr/local/lib/python3.6/dist-packages/fsspec/spec.py\u001b[0m in \u001b[0;36mopen\u001b[0;34m(self, path, mode, block_size, cache_options, **kwargs)\u001b[0m\n\u001b[1;32m    773\u001b[0m                 \u001b[0mautocommit\u001b[0m\u001b[0;34m=\u001b[0m\u001b[0mac\u001b[0m\u001b[0;34m,\u001b[0m\u001b[0;34m\u001b[0m\u001b[0;34m\u001b[0m\u001b[0m\n\u001b[1;32m    774\u001b[0m                 \u001b[0mcache_options\u001b[0m\u001b[0;34m=\u001b[0m\u001b[0mcache_options\u001b[0m\u001b[0;34m,\u001b[0m\u001b[0;34m\u001b[0m\u001b[0;34m\u001b[0m\u001b[0m\n\u001b[0;32m--> 775\u001b[0;31m                 \u001b[0;34m**\u001b[0m\u001b[0mkwargs\u001b[0m\u001b[0;34m\u001b[0m\u001b[0;34m\u001b[0m\u001b[0m\n\u001b[0m\u001b[1;32m    776\u001b[0m             )\n\u001b[1;32m    777\u001b[0m             \u001b[0;32mif\u001b[0m \u001b[0;32mnot\u001b[0m \u001b[0mac\u001b[0m\u001b[0;34m:\u001b[0m\u001b[0;34m\u001b[0m\u001b[0;34m\u001b[0m\u001b[0m\n",
            "\u001b[0;32m/usr/local/lib/python3.6/dist-packages/gcsfs/core.py\u001b[0m in \u001b[0;36m_open\u001b[0;34m(self, path, mode, block_size, cache_options, acl, consistency, metadata, autocommit, **kwargs)\u001b[0m\n\u001b[1;32m    957\u001b[0m             \u001b[0macl\u001b[0m\u001b[0;34m=\u001b[0m\u001b[0macl\u001b[0m\u001b[0;34m,\u001b[0m\u001b[0;34m\u001b[0m\u001b[0;34m\u001b[0m\u001b[0m\n\u001b[1;32m    958\u001b[0m             \u001b[0mautocommit\u001b[0m\u001b[0;34m=\u001b[0m\u001b[0mautocommit\u001b[0m\u001b[0;34m,\u001b[0m\u001b[0;34m\u001b[0m\u001b[0;34m\u001b[0m\u001b[0m\n\u001b[0;32m--> 959\u001b[0;31m             \u001b[0;34m**\u001b[0m\u001b[0mkwargs\u001b[0m\u001b[0;34m\u001b[0m\u001b[0;34m\u001b[0m\u001b[0m\n\u001b[0m\u001b[1;32m    960\u001b[0m         )\n\u001b[1;32m    961\u001b[0m \u001b[0;34m\u001b[0m\u001b[0m\n",
            "\u001b[0;32m/usr/local/lib/python3.6/dist-packages/gcsfs/core.py\u001b[0m in \u001b[0;36m__init__\u001b[0;34m(self, gcsfs, path, mode, block_size, autocommit, cache_type, cache_options, acl, consistency, metadata, content_type, **kwargs)\u001b[0m\n\u001b[1;32m   1036\u001b[0m             \u001b[0mcache_type\u001b[0m\u001b[0;34m=\u001b[0m\u001b[0mcache_type\u001b[0m\u001b[0;34m,\u001b[0m\u001b[0;34m\u001b[0m\u001b[0;34m\u001b[0m\u001b[0m\n\u001b[1;32m   1037\u001b[0m             \u001b[0mcache_options\u001b[0m\u001b[0;34m=\u001b[0m\u001b[0mcache_options\u001b[0m\u001b[0;34m,\u001b[0m\u001b[0;34m\u001b[0m\u001b[0;34m\u001b[0m\u001b[0m\n\u001b[0;32m-> 1038\u001b[0;31m             \u001b[0;34m**\u001b[0m\u001b[0mkwargs\u001b[0m\u001b[0;34m\u001b[0m\u001b[0;34m\u001b[0m\u001b[0m\n\u001b[0m\u001b[1;32m   1039\u001b[0m         )\n\u001b[1;32m   1040\u001b[0m         \u001b[0mbucket\u001b[0m\u001b[0;34m,\u001b[0m \u001b[0mkey\u001b[0m \u001b[0;34m=\u001b[0m \u001b[0mself\u001b[0m\u001b[0;34m.\u001b[0m\u001b[0mfs\u001b[0m\u001b[0;34m.\u001b[0m\u001b[0msplit_path\u001b[0m\u001b[0;34m(\u001b[0m\u001b[0mpath\u001b[0m\u001b[0;34m)\u001b[0m\u001b[0;34m\u001b[0m\u001b[0;34m\u001b[0m\u001b[0m\n",
            "\u001b[0;32m/usr/local/lib/python3.6/dist-packages/fsspec/spec.py\u001b[0m in \u001b[0;36m__init__\u001b[0;34m(self, fs, path, mode, block_size, autocommit, cache_type, cache_options, **kwargs)\u001b[0m\n\u001b[1;32m   1063\u001b[0m         \u001b[0;32mif\u001b[0m \u001b[0mmode\u001b[0m \u001b[0;34m==\u001b[0m \u001b[0;34m\"rb\"\u001b[0m\u001b[0;34m:\u001b[0m\u001b[0;34m\u001b[0m\u001b[0;34m\u001b[0m\u001b[0m\n\u001b[1;32m   1064\u001b[0m             \u001b[0;32mif\u001b[0m \u001b[0;32mnot\u001b[0m \u001b[0mhasattr\u001b[0m\u001b[0;34m(\u001b[0m\u001b[0mself\u001b[0m\u001b[0;34m,\u001b[0m \u001b[0;34m\"details\"\u001b[0m\u001b[0;34m)\u001b[0m\u001b[0;34m:\u001b[0m\u001b[0;34m\u001b[0m\u001b[0;34m\u001b[0m\u001b[0m\n\u001b[0;32m-> 1065\u001b[0;31m                 \u001b[0mself\u001b[0m\u001b[0;34m.\u001b[0m\u001b[0mdetails\u001b[0m \u001b[0;34m=\u001b[0m \u001b[0mfs\u001b[0m\u001b[0;34m.\u001b[0m\u001b[0minfo\u001b[0m\u001b[0;34m(\u001b[0m\u001b[0mpath\u001b[0m\u001b[0;34m)\u001b[0m\u001b[0;34m\u001b[0m\u001b[0;34m\u001b[0m\u001b[0m\n\u001b[0m\u001b[1;32m   1066\u001b[0m             \u001b[0mself\u001b[0m\u001b[0;34m.\u001b[0m\u001b[0msize\u001b[0m \u001b[0;34m=\u001b[0m \u001b[0mself\u001b[0m\u001b[0;34m.\u001b[0m\u001b[0mdetails\u001b[0m\u001b[0;34m[\u001b[0m\u001b[0;34m\"size\"\u001b[0m\u001b[0;34m]\u001b[0m\u001b[0;34m\u001b[0m\u001b[0;34m\u001b[0m\u001b[0m\n\u001b[1;32m   1067\u001b[0m             self.cache = caches[cache_type](\n",
            "\u001b[0;32m/usr/local/lib/python3.6/dist-packages/gcsfs/core.py\u001b[0m in \u001b[0;36minfo\u001b[0;34m(self, path, **kwargs)\u001b[0m\n\u001b[1;32m    738\u001b[0m         \u001b[0;31m# Check exact file path\u001b[0m\u001b[0;34m\u001b[0m\u001b[0;34m\u001b[0m\u001b[0;34m\u001b[0m\u001b[0m\n\u001b[1;32m    739\u001b[0m         \u001b[0;32mtry\u001b[0m\u001b[0;34m:\u001b[0m\u001b[0;34m\u001b[0m\u001b[0;34m\u001b[0m\u001b[0m\n\u001b[0;32m--> 740\u001b[0;31m             \u001b[0;32mreturn\u001b[0m \u001b[0mself\u001b[0m\u001b[0;34m.\u001b[0m\u001b[0m_get_object\u001b[0m\u001b[0;34m(\u001b[0m\u001b[0mpath\u001b[0m\u001b[0;34m)\u001b[0m\u001b[0;34m\u001b[0m\u001b[0;34m\u001b[0m\u001b[0m\n\u001b[0m\u001b[1;32m    741\u001b[0m         \u001b[0;32mexcept\u001b[0m \u001b[0mFileNotFoundError\u001b[0m\u001b[0;34m:\u001b[0m\u001b[0;34m\u001b[0m\u001b[0;34m\u001b[0m\u001b[0m\n\u001b[1;32m    742\u001b[0m             \u001b[0;32mpass\u001b[0m\u001b[0;34m\u001b[0m\u001b[0;34m\u001b[0m\u001b[0m\n",
            "\u001b[0;32m/usr/local/lib/python3.6/dist-packages/gcsfs/core.py\u001b[0m in \u001b[0;36m_get_object\u001b[0;34m(self, path)\u001b[0m\n\u001b[1;32m    547\u001b[0m \u001b[0;34m\u001b[0m\u001b[0m\n\u001b[1;32m    548\u001b[0m         result = self._process_object(\n\u001b[0;32m--> 549\u001b[0;31m             \u001b[0mbucket\u001b[0m\u001b[0;34m,\u001b[0m \u001b[0mself\u001b[0m\u001b[0;34m.\u001b[0m\u001b[0m_call\u001b[0m\u001b[0;34m(\u001b[0m\u001b[0;34m\"GET\"\u001b[0m\u001b[0;34m,\u001b[0m \u001b[0;34m\"b/{}/o/{}\"\u001b[0m\u001b[0;34m,\u001b[0m \u001b[0mbucket\u001b[0m\u001b[0;34m,\u001b[0m \u001b[0mkey\u001b[0m\u001b[0;34m)\u001b[0m\u001b[0;34m.\u001b[0m\u001b[0mjson\u001b[0m\u001b[0;34m(\u001b[0m\u001b[0;34m)\u001b[0m\u001b[0;34m\u001b[0m\u001b[0;34m\u001b[0m\u001b[0m\n\u001b[0m\u001b[1;32m    550\u001b[0m         )\n\u001b[1;32m    551\u001b[0m \u001b[0;34m\u001b[0m\u001b[0m\n",
            "\u001b[0;32m/usr/local/lib/python3.6/dist-packages/gcsfs/core.py\u001b[0m in \u001b[0;36m_call\u001b[0;34m(self, method, path, *args, **kwargs)\u001b[0m\n\u001b[1;32m    502\u001b[0m                     \u001b[0;32mcontinue\u001b[0m\u001b[0;34m\u001b[0m\u001b[0;34m\u001b[0m\u001b[0m\n\u001b[1;32m    503\u001b[0m                 \u001b[0mlogger\u001b[0m\u001b[0;34m.\u001b[0m\u001b[0mexception\u001b[0m\u001b[0;34m(\u001b[0m\u001b[0;34m\"_call non-retriable exception: %s\"\u001b[0m\u001b[0;34m,\u001b[0m \u001b[0me\u001b[0m\u001b[0;34m)\u001b[0m\u001b[0;34m\u001b[0m\u001b[0;34m\u001b[0m\u001b[0m\n\u001b[0;32m--> 504\u001b[0;31m                 \u001b[0;32mraise\u001b[0m \u001b[0me\u001b[0m\u001b[0;34m\u001b[0m\u001b[0;34m\u001b[0m\u001b[0m\n\u001b[0m\u001b[1;32m    505\u001b[0m \u001b[0;34m\u001b[0m\u001b[0m\n\u001b[1;32m    506\u001b[0m         \u001b[0;32mreturn\u001b[0m \u001b[0mr\u001b[0m\u001b[0;34m\u001b[0m\u001b[0;34m\u001b[0m\u001b[0m\n",
            "\u001b[0;32m/usr/local/lib/python3.6/dist-packages/gcsfs/core.py\u001b[0m in \u001b[0;36m_call\u001b[0;34m(self, method, path, *args, **kwargs)\u001b[0m\n\u001b[1;32m    485\u001b[0m                     \u001b[0mtimeout\u001b[0m\u001b[0;34m=\u001b[0m\u001b[0mself\u001b[0m\u001b[0;34m.\u001b[0m\u001b[0mrequests_timeout\u001b[0m\u001b[0;34m,\u001b[0m\u001b[0;34m\u001b[0m\u001b[0;34m\u001b[0m\u001b[0m\n\u001b[1;32m    486\u001b[0m                 )\n\u001b[0;32m--> 487\u001b[0;31m                 \u001b[0mvalidate_response\u001b[0m\u001b[0;34m(\u001b[0m\u001b[0mr\u001b[0m\u001b[0;34m,\u001b[0m \u001b[0mpath\u001b[0m\u001b[0;34m)\u001b[0m\u001b[0;34m\u001b[0m\u001b[0;34m\u001b[0m\u001b[0m\n\u001b[0m\u001b[1;32m    488\u001b[0m                 \u001b[0;32mbreak\u001b[0m\u001b[0;34m\u001b[0m\u001b[0;34m\u001b[0m\u001b[0m\n\u001b[1;32m    489\u001b[0m             \u001b[0;32mexcept\u001b[0m \u001b[0;34m(\u001b[0m\u001b[0mHttpError\u001b[0m\u001b[0;34m,\u001b[0m \u001b[0mRequestException\u001b[0m\u001b[0;34m,\u001b[0m \u001b[0mGoogleAuthError\u001b[0m\u001b[0;34m)\u001b[0m \u001b[0;32mas\u001b[0m \u001b[0me\u001b[0m\u001b[0;34m:\u001b[0m\u001b[0;34m\u001b[0m\u001b[0;34m\u001b[0m\u001b[0m\n",
            "\u001b[0;32m/usr/local/lib/python3.6/dist-packages/gcsfs/core.py\u001b[0m in \u001b[0;36mvalidate_response\u001b[0;34m(r, path)\u001b[0m\n\u001b[1;32m    128\u001b[0m             \u001b[0;32mraise\u001b[0m \u001b[0mValueError\u001b[0m\u001b[0;34m(\u001b[0m\u001b[0;34m\"Bad Request: %s\\n%s\"\u001b[0m \u001b[0;34m%\u001b[0m \u001b[0;34m(\u001b[0m\u001b[0mpath\u001b[0m\u001b[0;34m,\u001b[0m \u001b[0mmsg\u001b[0m\u001b[0;34m)\u001b[0m\u001b[0;34m)\u001b[0m\u001b[0;34m\u001b[0m\u001b[0;34m\u001b[0m\u001b[0m\n\u001b[1;32m    129\u001b[0m         \u001b[0;32melif\u001b[0m \u001b[0merror\u001b[0m\u001b[0;34m:\u001b[0m\u001b[0;34m\u001b[0m\u001b[0;34m\u001b[0m\u001b[0m\n\u001b[0;32m--> 130\u001b[0;31m             \u001b[0;32mraise\u001b[0m \u001b[0mHttpError\u001b[0m\u001b[0;34m(\u001b[0m\u001b[0merror\u001b[0m\u001b[0;34m)\u001b[0m\u001b[0;34m\u001b[0m\u001b[0;34m\u001b[0m\u001b[0m\n\u001b[0m\u001b[1;32m    131\u001b[0m         \u001b[0;32melif\u001b[0m \u001b[0mr\u001b[0m\u001b[0;34m.\u001b[0m\u001b[0mstatus_code\u001b[0m\u001b[0;34m:\u001b[0m\u001b[0;34m\u001b[0m\u001b[0;34m\u001b[0m\u001b[0m\n\u001b[1;32m    132\u001b[0m             \u001b[0;32mraise\u001b[0m \u001b[0mHttpError\u001b[0m\u001b[0;34m(\u001b[0m\u001b[0;34m{\u001b[0m\u001b[0;34m\"code\"\u001b[0m\u001b[0;34m:\u001b[0m \u001b[0mr\u001b[0m\u001b[0;34m.\u001b[0m\u001b[0mstatus_code\u001b[0m\u001b[0;34m}\u001b[0m\u001b[0;34m)\u001b[0m\u001b[0;34m\u001b[0m\u001b[0;34m\u001b[0m\u001b[0m\n",
            "\u001b[0;31mHttpError\u001b[0m: Anonymous caller does not have storage.objects.get access to the Google Cloud Storage object."
          ]
        }
      ]
    },
    {
      "cell_type": "markdown",
      "metadata": {
        "colab_type": "text",
        "id": "sSz0aInzWXFI"
      },
      "source": [
        "Each property listing has a unique ID, which is a combination of its parcel number `FA_APN` and its listing date `ListDate`. All of the listings are for single-family properties in Los Angeles county with listing dates on or after January 1, 2017."
      ]
    },
    {
      "cell_type": "code",
      "metadata": {
        "colab_type": "code",
        "id": "Bcpvh_R_6jKB",
        "colab": {}
      },
      "source": [
        "mls_df[['ID','FA_APN','ListDate',\n",
        "        'CMAS_SIT_HSE_NBR_1_NZ','CMAS_SIT_STR_NAME_1_NZ','CMAS_PROPERTY_CITY_1','CMAS_PROPERTY_STATE_1','CMAS_Zip5']].head()"
      ],
      "execution_count": null,
      "outputs": []
    },
    {
      "cell_type": "markdown",
      "metadata": {
        "colab_type": "text",
        "id": "MHPM16gWWNvn"
      },
      "source": [
        "The listing `ListPrice` and closed `ClosePrice` prices are avaiable for each property, along with the listing date `ListDate` and closing date `CloseDate`. You can calculate each property's \"days-on-market\" by subtracting the `ListDate` from the `CloseDate`.\n",
        "\n",
        "There are some erroneous dates in the MLS dataset, so some of the calculated days-on-market may be odd."
      ]
    },
    {
      "cell_type": "code",
      "metadata": {
        "colab_type": "code",
        "id": "L5cMl7XV65be",
        "colab": {}
      },
      "source": [
        "mls_df['DaysOnMarket'] = mls_df['CloseDate'] - mls_df['ListDate']\n",
        "\n",
        "display(mls_df[['ListDate','CloseDate','DaysOnMarket']].head())\n",
        "\n",
        "display(mls_df['DaysOnMarket'].describe())"
      ],
      "execution_count": null,
      "outputs": []
    },
    {
      "cell_type": "markdown",
      "metadata": {
        "colab_type": "text",
        "id": "xAPlMk6nWKNm"
      },
      "source": [
        "In the MLS database, all of the listings were marked as \"for sale\" as opposed to \"for rent\". But there are some errors in this field, so there are some rental properties included in the dataset.\n"
      ]
    },
    {
      "cell_type": "code",
      "metadata": {
        "colab_type": "code",
        "id": "pJGU6gX-7M-N",
        "colab": {}
      },
      "source": [
        "(mls_df.ClosePrice < 10000).sum()"
      ],
      "execution_count": null,
      "outputs": []
    },
    {
      "cell_type": "markdown",
      "metadata": {
        "id": "SdL8sHbKHXSi",
        "colab_type": "text"
      },
      "source": [
        "# Text Information in the MLS Dataset"
      ]
    },
    {
      "cell_type": "markdown",
      "metadata": {
        "id": "kTAxc-2CHgrK",
        "colab_type": "text"
      },
      "source": [
        "The dataset includes the most-populated text fields in the MLS database for Los Angeles county. These are the fields that realtors use to describe properties to potential buyers and include in listing sheets and advertisements.\n",
        "\n",
        "Some of the fields are not necessarily public (e.g., `AgentRemarks`). For the most part, the field names provide a good description of the information included in each field.\n",
        "\n",
        "Here are the average number of characacters included in each field across all listings:"
      ]
    },
    {
      "cell_type": "code",
      "metadata": {
        "id": "1p79PXPdKINM",
        "colab_type": "code",
        "colab": {}
      },
      "source": [
        "text_desc_cols = ['AgentRemarks','Appliances','Cooling',\n",
        "                  'Directions','GarageStyle','Heating',\n",
        "                  'LotDesc','ParkingFeatures','Pool',\n",
        "                  'PublicRemarks','Roof','RoomsDiningDescription',\n",
        "                  'RoomsLaundryDescription','RoomsOtherDescription','StoriesDesc',\n",
        "                  'Style','UtilitiesSewer','UtilitiesWater',\n",
        "                  'ViewDescription','Zoning','Exterior',\n",
        "                  'Fencing','Floors','SecurityFeatures',\n",
        "                  'Utilities','HeatingFuel','IrrigationSource',\n",
        "                  'Amenities1','Amenities2']\n",
        "\n",
        "mls_df[text_desc_cols].fillna('').astype(str).apply(lambda x:x.str.len()).mean().sort_values(ascending=False)"
      ],
      "execution_count": null,
      "outputs": []
    },
    {
      "cell_type": "markdown",
      "metadata": {
        "id": "EdVHoGNkM4wg",
        "colab_type": "text"
      },
      "source": [
        "The data set also contains a field `AllText` that combines all of the text fields into a single string. The Google AutoML NLP models require that all text appears in a single string.\n",
        "\n",
        "Each field is denoted by its field name followed by a colon. The fields are separated by semi-colons. (Does including the field names make it more difficult for AutoML to fit accurate NLP models?)"
      ]
    },
    {
      "cell_type": "code",
      "metadata": {
        "id": "GnHWdB8yPwXO",
        "colab_type": "code",
        "colab": {}
      },
      "source": [
        "pd.set_option('display.max_colwidth', None)\n",
        "\n",
        "display(mls_df[text_desc_cols].head(n=1).transpose())\n",
        "\n",
        "display(mls_df[['ID','AllText']].head(n=1))"
      ],
      "execution_count": null,
      "outputs": []
    },
    {
      "cell_type": "markdown",
      "metadata": {
        "id": "Culs0JzbGsxb",
        "colab_type": "text"
      },
      "source": [
        "# Creating Training Labels for AutoML"
      ]
    },
    {
      "cell_type": "markdown",
      "metadata": {
        "id": "S4YMhVqGG_qa",
        "colab_type": "text"
      },
      "source": [
        "Google AutoML can be used to build a NLP model that classifies records based on text information. But before building AutoML, it is necessary to categorize the data set records and create training labels for each category.\n",
        "\n",
        "The dataset already contains one set of training labels for the listings categrozied by the ratio of ClosePrice to ListPrice. Depending on market conditions, more attractive properties will sell at larger premiums to their listing prices than less attractive properties. We may be able to predict the range of this premium with an NLP model that uses the contents of the `AllText` fields as an input.\n",
        "\n",
        "The categories/labels are designed as follow:\n",
        "\n",
        "`IF ClosePrice/ListPrice > 1.10 THEN ClosePriceListPrice_Ratio_Cat = 4` \n",
        " \n",
        "`IF ClosePrice/ListPrice > 1.05 AND ClosePrice/ListPrice <= 1.10 THEN ClosePriceListPrice_Ratio_Cat = 3`\n",
        "\n",
        "`IF ClosePrice/ListPrice > 1.00 AND ClosePrice/ListPrice <= 1.05 THEN ClosePriceListPrice_Ratio_Cat = 2`\n",
        "\n",
        "`IF ClosePrice/ListPrice > 0.95 AND ClosePrice/ListPrice <= 1.00 THEN ClosePriceListPrice_Ratio_Cat = 1`\n",
        "\n",
        "`ELSE ClosePriceListPrice_Ratio_Cat = 0`  "
      ]
    },
    {
      "cell_type": "code",
      "metadata": {
        "id": "kYxKWMYiGyIa",
        "colab_type": "code",
        "colab": {}
      },
      "source": [
        "mls_df['ClosePriceListPrice_Ratio_Cat'].value_counts(sort=False)"
      ],
      "execution_count": null,
      "outputs": []
    },
    {
      "cell_type": "markdown",
      "metadata": {
        "id": "cDTtP5Sq-5KO",
        "colab_type": "text"
      },
      "source": [
        "You can also create your own categories (with training labels). Maybe five categories of `ClosePrice` to `ListPrice` ratios is too many. We can create another label that separates the listings into three categories."
      ]
    },
    {
      "cell_type": "code",
      "metadata": {
        "id": "iJ0G_USD_Wql",
        "colab_type": "code",
        "colab": {}
      },
      "source": [
        "# Function to set label for one record\n",
        "def func(row):\n",
        "    if row['ClosePrice']/row['ListPrice'] > 1.025:\n",
        "        return 'Premium'\n",
        "    elif (row['ClosePrice']/row['ListPrice'] <= 1.025 and\n",
        "          row['ClosePrice']/row['ListPrice'] > 0.975):\n",
        "        return 'Normal'\n",
        "    else:\n",
        "        return 'Discount'\n",
        "\n",
        "# Apply function to all records\n",
        "mls_df['ClosePriceListPrice_Ratio_Cat2'] = mls_df.apply(func, axis=1)\n",
        "\n",
        "mls_df['ClosePriceListPrice_Ratio_Cat2'].value_counts(sort=False)"
      ],
      "execution_count": null,
      "outputs": []
    }
  ]
}