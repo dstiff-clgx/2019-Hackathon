{
  "nbformat": 4,
  "nbformat_minor": 0,
  "metadata": {
    "colab": {
      "name": "External data: Local Files, Drive, Sheets, and Cloud Storage",
      "provenance": [],
      "collapsed_sections": [],
      "toc_visible": true,
      "include_colab_link": true
    },
    "kernelspec": {
      "display_name": "Python 3",
      "name": "python3"
    }
  },
  "cells": [
    {
      "cell_type": "markdown",
      "metadata": {
        "id": "view-in-github",
        "colab_type": "text"
      },
      "source": [
        "<a href=\"https://colab.research.google.com/github/dstiff-clgx/2019-Hackathon/blob/master/Manage_NLP_Hackathon_Dataset.ipynb\" target=\"_parent\"><img src=\"https://colab.research.google.com/assets/colab-badge.svg\" alt=\"Open In Colab\"/></a>"
      ]
    },
    {
      "cell_type": "markdown",
      "metadata": {
        "colab_type": "text",
        "id": "S7c8WYyQdh5i"
      },
      "source": [
        "# Load Multiple Listing Service (MLS) dataset\n",
        "\n",
        "The MLS data sets is stored in a Google Cloud storage bucket. To access the dataset, you must first specify your project ID and the bucket name.\n"
      ]
    },
    {
      "cell_type": "code",
      "metadata": {
        "colab_type": "code",
        "id": "VYC5CyAbAtU7",
        "colab": {}
      },
      "source": [
        "project_id = 'clgx-analytics2-65bd'\n",
        "\n",
        "bucket_name = 'clgx-analytics2-tiger-team'"
      ],
      "execution_count": 5,
      "outputs": []
    },
    {
      "cell_type": "markdown",
      "metadata": {
        "colab_type": "text",
        "id": "-OtHMRVda9pJ"
      },
      "source": [
        "In order to access Google Cloud storage, we must authenticate. (This only needs to be done once.)\n"
      ]
    },
    {
      "cell_type": "code",
      "metadata": {
        "colab_type": "code",
        "id": "NQX0hbfYaEKc",
        "colab": {}
      },
      "source": [
        "from google.colab import auth\n",
        "auth.authenticate_user()"
      ],
      "execution_count": 6,
      "outputs": []
    },
    {
      "cell_type": "markdown",
      "metadata": {
        "colab_type": "text",
        "id": "TvuZEyRQXmyS"
      },
      "source": [
        "## `gsutil`\n",
        "\n",
        "Google Cloud storage files can be accessed with `gsutil`.\n",
        "\n",
        "First configure the project ID.\n"
      ]
    },
    {
      "cell_type": "code",
      "metadata": {
        "colab_type": "code",
        "id": "TpnuFITI6Tzu",
        "colab": {
          "base_uri": "https://localhost:8080/",
          "height": 34
        },
        "outputId": "1b4dceca-3557-471c-84ed-ee1d3720e55b"
      },
      "source": [
        "!gcloud config set project {project_id}"
      ],
      "execution_count": 7,
      "outputs": [
        {
          "output_type": "stream",
          "text": [
            "Updated property [core/project].\n"
          ],
          "name": "stdout"
        }
      ]
    },
    {
      "cell_type": "markdown",
      "metadata": {
        "colab_type": "text",
        "id": "NAM6vyXAfVUj"
      },
      "source": [
        "`pandas` can read a file directly from Google Cloud storage. The MLS data file is quite large, so it can take some time to read it into a data frame.\n",
        "\n",
        "`pandas` does not always assign the correct data type to columns in a CSV file. But you can set specific column types in `read_csv` by using a `dtype` dictionary. The `pandas` character type is `object`.\n",
        "\n",
        "Also include any date columns in the `parse_dates` list to automatically convert them into `datetime64` types."
      ]
    },
    {
      "cell_type": "code",
      "metadata": {
        "colab_type": "code",
        "id": "LADpx7LReOMk",
        "colab": {}
      },
      "source": [
        "# !pip install gcsfs    # If gcsfs is not installed on your VM, uncomment this line\n",
        "import pandas as pd\n",
        "\n",
        "mls_df = pd.read_csv('gs://clgx-analytics2-tiger-team/Closed_Listings_06037_SFR_2017_or_Later_Tabular.csv',\n",
        "                     dtype={'FA_APN':'object',\n",
        "                            'CMAS_Zip5':'object',\n",
        "                            'CMAS_FIPS_CODE':'object'},\n",
        "                     parse_dates=['ListDate','CloseDate'])"
      ],
      "execution_count": 21,
      "outputs": []
    },
    {
      "cell_type": "markdown",
      "metadata": {
        "colab_type": "text",
        "id": "sSz0aInzWXFI"
      },
      "source": [
        "Each property listing has a unique ID, which is a combination of its parcel number `FA_APN` and its listing date `ListDate`. All of the listings are for single-family properties in Los Angeles county with listing dates on or after January 1, 2017."
      ]
    },
    {
      "cell_type": "code",
      "metadata": {
        "colab_type": "code",
        "id": "Bcpvh_R_6jKB",
        "colab": {
          "base_uri": "https://localhost:8080/",
          "height": 204
        },
        "outputId": "ab7dbfb1-827d-42a8-e1ec-6b92b23f2097"
      },
      "source": [
        "mls_df[['ID','FA_APN','ListDate',\n",
        "        'CMAS_SIT_HSE_NBR_1_NZ','CMAS_SIT_STR_NAME_1_NZ','CMAS_PROPERTY_CITY_1','CMAS_PROPERTY_STATE_1','CMAS_Zip5']].head()"
      ],
      "execution_count": 23,
      "outputs": [
        {
          "output_type": "execute_result",
          "data": {
            "text/html": [
              "<div>\n",
              "<style scoped>\n",
              "    .dataframe tbody tr th:only-of-type {\n",
              "        vertical-align: middle;\n",
              "    }\n",
              "\n",
              "    .dataframe tbody tr th {\n",
              "        vertical-align: top;\n",
              "    }\n",
              "\n",
              "    .dataframe thead th {\n",
              "        text-align: right;\n",
              "    }\n",
              "</style>\n",
              "<table border=\"1\" class=\"dataframe\">\n",
              "  <thead>\n",
              "    <tr style=\"text-align: right;\">\n",
              "      <th></th>\n",
              "      <th>ID</th>\n",
              "      <th>FA_APN</th>\n",
              "      <th>ListDate</th>\n",
              "      <th>CMAS_SIT_HSE_NBR_1_NZ</th>\n",
              "      <th>CMAS_SIT_STR_NAME_1_NZ</th>\n",
              "      <th>CMAS_PROPERTY_CITY_1</th>\n",
              "      <th>CMAS_PROPERTY_STATE_1</th>\n",
              "      <th>CMAS_Zip5</th>\n",
              "    </tr>\n",
              "  </thead>\n",
              "  <tbody>\n",
              "    <tr>\n",
              "      <th>0</th>\n",
              "      <td>0493057004_2020-02-14</td>\n",
              "      <td>0493057004</td>\n",
              "      <td>2020-02-14</td>\n",
              "      <td>2973</td>\n",
              "      <td>HILLSIDE</td>\n",
              "      <td>West Covina</td>\n",
              "      <td>CA</td>\n",
              "      <td>91791</td>\n",
              "    </tr>\n",
              "    <tr>\n",
              "      <th>1</th>\n",
              "      <td>0713900400_2018-06-21</td>\n",
              "      <td>0713900400</td>\n",
              "      <td>2018-06-21</td>\n",
              "      <td>3804</td>\n",
              "      <td>LINDEN</td>\n",
              "      <td>Long Beach</td>\n",
              "      <td>CA</td>\n",
              "      <td>90807</td>\n",
              "    </tr>\n",
              "    <tr>\n",
              "      <th>2</th>\n",
              "      <td>2004001019_2018-02-22</td>\n",
              "      <td>2004001019</td>\n",
              "      <td>2018-02-22</td>\n",
              "      <td>8321</td>\n",
              "      <td>PONCE</td>\n",
              "      <td>Los Angeles</td>\n",
              "      <td>CA</td>\n",
              "      <td>91304</td>\n",
              "    </tr>\n",
              "    <tr>\n",
              "      <th>3</th>\n",
              "      <td>2004001031_2019-02-05</td>\n",
              "      <td>2004001031</td>\n",
              "      <td>2019-02-05</td>\n",
              "      <td>8315</td>\n",
              "      <td>PONCE</td>\n",
              "      <td>Los Angeles</td>\n",
              "      <td>CA</td>\n",
              "      <td>91304</td>\n",
              "    </tr>\n",
              "    <tr>\n",
              "      <th>4</th>\n",
              "      <td>2004002001_2018-08-08</td>\n",
              "      <td>2004002001</td>\n",
              "      <td>2018-08-08</td>\n",
              "      <td>22726</td>\n",
              "      <td>ECCLES</td>\n",
              "      <td>Los Angeles</td>\n",
              "      <td>CA</td>\n",
              "      <td>91304</td>\n",
              "    </tr>\n",
              "  </tbody>\n",
              "</table>\n",
              "</div>"
            ],
            "text/plain": [
              "                      ID      FA_APN  ... CMAS_PROPERTY_STATE_1  CMAS_Zip5\n",
              "0  0493057004_2020-02-14  0493057004  ...                    CA      91791\n",
              "1  0713900400_2018-06-21  0713900400  ...                    CA      90807\n",
              "2  2004001019_2018-02-22  2004001019  ...                    CA      91304\n",
              "3  2004001031_2019-02-05  2004001031  ...                    CA      91304\n",
              "4  2004002001_2018-08-08  2004002001  ...                    CA      91304\n",
              "\n",
              "[5 rows x 8 columns]"
            ]
          },
          "metadata": {
            "tags": []
          },
          "execution_count": 23
        }
      ]
    },
    {
      "cell_type": "markdown",
      "metadata": {
        "colab_type": "text",
        "id": "MHPM16gWWNvn"
      },
      "source": [
        "The listing `ListPrice` and closed `ClosePrice` prices are avaiable for each property, along with the listing date `ListDate` and closing date `CloseDate`. You can calculate each property's \"days-on-market\" by subtracting the `ListDate` from the `CloseDate`.\n",
        "\n",
        "There are some erroneous dates in the MLS dataset, so some of the calculated days-on-market may be odd."
      ]
    },
    {
      "cell_type": "code",
      "metadata": {
        "colab_type": "code",
        "id": "L5cMl7XV65be",
        "colab": {
          "base_uri": "https://localhost:8080/",
          "height": 357
        },
        "outputId": "eaec1472-7fd4-43c3-a4c9-dafedbdee21e"
      },
      "source": [
        "mls_df['DaysOnMarket'] = mls_df['CloseDate'] - mls_df['ListDate']\n",
        "\n",
        "display(mls_df[['ListDate','CloseDate','DaysOnMarket']].head())\n",
        "\n",
        "display(mls_df['DaysOnMarket'].describe())"
      ],
      "execution_count": 27,
      "outputs": [
        {
          "output_type": "display_data",
          "data": {
            "text/html": [
              "<div>\n",
              "<style scoped>\n",
              "    .dataframe tbody tr th:only-of-type {\n",
              "        vertical-align: middle;\n",
              "    }\n",
              "\n",
              "    .dataframe tbody tr th {\n",
              "        vertical-align: top;\n",
              "    }\n",
              "\n",
              "    .dataframe thead th {\n",
              "        text-align: right;\n",
              "    }\n",
              "</style>\n",
              "<table border=\"1\" class=\"dataframe\">\n",
              "  <thead>\n",
              "    <tr style=\"text-align: right;\">\n",
              "      <th></th>\n",
              "      <th>ListDate</th>\n",
              "      <th>CloseDate</th>\n",
              "      <th>DaysOnMarket</th>\n",
              "    </tr>\n",
              "  </thead>\n",
              "  <tbody>\n",
              "    <tr>\n",
              "      <th>0</th>\n",
              "      <td>2020-02-14</td>\n",
              "      <td>2020-04-23</td>\n",
              "      <td>69 days</td>\n",
              "    </tr>\n",
              "    <tr>\n",
              "      <th>1</th>\n",
              "      <td>2018-06-21</td>\n",
              "      <td>2018-08-29</td>\n",
              "      <td>69 days</td>\n",
              "    </tr>\n",
              "    <tr>\n",
              "      <th>2</th>\n",
              "      <td>2018-02-22</td>\n",
              "      <td>2018-04-18</td>\n",
              "      <td>55 days</td>\n",
              "    </tr>\n",
              "    <tr>\n",
              "      <th>3</th>\n",
              "      <td>2019-02-05</td>\n",
              "      <td>2019-04-24</td>\n",
              "      <td>78 days</td>\n",
              "    </tr>\n",
              "    <tr>\n",
              "      <th>4</th>\n",
              "      <td>2018-08-08</td>\n",
              "      <td>2018-10-18</td>\n",
              "      <td>71 days</td>\n",
              "    </tr>\n",
              "  </tbody>\n",
              "</table>\n",
              "</div>"
            ],
            "text/plain": [
              "    ListDate  CloseDate DaysOnMarket\n",
              "0 2020-02-14 2020-04-23      69 days\n",
              "1 2018-06-21 2018-08-29      69 days\n",
              "2 2018-02-22 2018-04-18      55 days\n",
              "3 2019-02-05 2019-04-24      78 days\n",
              "4 2018-08-08 2018-10-18      71 days"
            ]
          },
          "metadata": {
            "tags": []
          }
        },
        {
          "output_type": "display_data",
          "data": {
            "text/plain": [
              "count                     161015\n",
              "mean     79 days 16:00:57.401813\n",
              "std      72 days 14:23:22.216268\n",
              "min          -219 days +00:00:00\n",
              "25%             43 days 00:00:00\n",
              "50%             61 days 00:00:00\n",
              "75%             95 days 00:00:00\n",
              "max           9915 days 00:00:00\n",
              "Name: DaysOnMarket, dtype: object"
            ]
          },
          "metadata": {
            "tags": []
          }
        }
      ]
    },
    {
      "cell_type": "markdown",
      "metadata": {
        "colab_type": "text",
        "id": "xAPlMk6nWKNm"
      },
      "source": [
        "In the MLS database, all of the listings were marked as \"for sale\" as opposed to \"for rent\". But there are some errors in this field, so there are some rental properties included in the dataset.\n"
      ]
    },
    {
      "cell_type": "code",
      "metadata": {
        "colab_type": "code",
        "id": "pJGU6gX-7M-N",
        "colab": {
          "base_uri": "https://localhost:8080/",
          "height": 34
        },
        "outputId": "88a5d036-aa98-4108-ebbc-3ce58a6bc5d2"
      },
      "source": [
        "(mls_df.ClosePrice<10000).sum()"
      ],
      "execution_count": 30,
      "outputs": [
        {
          "output_type": "execute_result",
          "data": {
            "text/plain": [
              "3093"
            ]
          },
          "metadata": {
            "tags": []
          },
          "execution_count": 30
        }
      ]
    },
    {
      "cell_type": "code",
      "metadata": {
        "cellView": "form",
        "colab_type": "code",
        "id": "qoectKiGOABf",
        "colab": {
          "height": 34
        },
        "outputId": "97b483ac-c2b1-46f0-f4ac-61b3701a8c89"
      },
      "source": [
        "#@markdown Once the upload has finished, the data will appear in the Cloud Console storage browser for your project:\n",
        "print('https://console.cloud.google.com/storage/browser?project=' + project_id)"
      ],
      "execution_count": null,
      "outputs": [
        {
          "output_type": "stream",
          "text": [
            "https://console.cloud.google.com/storage/browser?project=Your_project_ID_here\n"
          ],
          "name": "stdout"
        }
      ]
    },
    {
      "cell_type": "markdown",
      "metadata": {
        "colab_type": "text",
        "id": "Q2CWQGIghDux"
      },
      "source": [
        "Finally, we'll download the file we just uploaded in the example above. It's as simple as reversing the order in the `gsutil cp` command."
      ]
    },
    {
      "cell_type": "code",
      "metadata": {
        "colab_type": "code",
        "id": "lPdTf-6O73ll",
        "colab": {
          "base_uri": "https://localhost:8080/",
          "height": 110
        },
        "outputId": "a6da299e-00ff-42a7-f845-9a93a4ccce61"
      },
      "source": [
        "!gsutil cp gs://{bucket_name}/to_upload.txt /tmp/gsutil_download.txt\n",
        "  \n",
        "# Print the result to make sure the transfer worked.\n",
        "!cat /tmp/gsutil_download.txt"
      ],
      "execution_count": null,
      "outputs": [
        {
          "output_type": "stream",
          "text": [
            "Copying gs://colab-sample-bucket483f20dc-baaf-11e7-ae30-0242ac110002/to_upload.txt...\n",
            "/ [1 files][   14.0 B/   14.0 B]                                                \n",
            "Operation completed over 1 objects/14.0 B.                                       \n",
            "my sample file"
          ],
          "name": "stdout"
        }
      ]
    },
    {
      "cell_type": "markdown",
      "metadata": {
        "colab_type": "text",
        "id": "OnjWcDFogdY2"
      },
      "source": [
        "Inspect the downloaded file.\n"
      ]
    },
    {
      "cell_type": "code",
      "metadata": {
        "colab_type": "code",
        "id": "DxLyhaiBpAGX",
        "colab": {
          "height": 34
        },
        "outputId": "eb379e18-a6bf-4af2-caf4-f8b9c57f4a80"
      },
      "source": [
        "!cat /tmp/downloaded_from_gcs.txt"
      ],
      "execution_count": null,
      "outputs": [
        {
          "output_type": "stream",
          "text": [
            "my sample file"
          ],
          "name": "stdout"
        }
      ]
    }
  ]
}