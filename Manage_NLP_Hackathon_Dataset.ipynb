{
  "nbformat": 4,
  "nbformat_minor": 0,
  "metadata": {
    "colab": {
      "name": "External data: Local Files, Drive, Sheets, and Cloud Storage",
      "provenance": [],
      "collapsed_sections": [],
      "toc_visible": true,
      "include_colab_link": true
    },
    "kernelspec": {
      "display_name": "Python 3",
      "name": "python3"
    }
  },
  "cells": [
    {
      "cell_type": "markdown",
      "metadata": {
        "id": "view-in-github",
        "colab_type": "text"
      },
      "source": [
        "<a href=\"https://colab.research.google.com/github/dstiff-clgx/2019-Hackathon/blob/master/Manage_NLP_Hackathon_Dataset.ipynb\" target=\"_parent\"><img src=\"https://colab.research.google.com/assets/colab-badge.svg\" alt=\"Open In Colab\"/></a>"
      ]
    },
    {
      "cell_type": "markdown",
      "metadata": {
        "colab_type": "text",
        "id": "S7c8WYyQdh5i"
      },
      "source": [
        "# Connecting to Google Cloud storage\n",
        "\n",
        "The MLS data sets is stored in a Google Cloud storage bucket. To access the dataset, you must first specify your project ID and the bucket name.\n"
      ]
    },
    {
      "cell_type": "code",
      "metadata": {
        "colab_type": "code",
        "id": "VYC5CyAbAtU7",
        "colab": {}
      },
      "source": [
        "project_id = 'clgx-analytics2-65bd'\n",
        "\n",
        "bucket_name = 'clgx-analytics2-tiger-team'"
      ],
      "execution_count": 5,
      "outputs": []
    },
    {
      "cell_type": "markdown",
      "metadata": {
        "colab_type": "text",
        "id": "-OtHMRVda9pJ"
      },
      "source": [
        "In order to access Google Cloud storage, we must authenticate. (This only needs to be done once.)\n"
      ]
    },
    {
      "cell_type": "code",
      "metadata": {
        "colab_type": "code",
        "id": "NQX0hbfYaEKc",
        "colab": {}
      },
      "source": [
        "from google.colab import auth\n",
        "auth.authenticate_user()"
      ],
      "execution_count": 6,
      "outputs": []
    },
    {
      "cell_type": "markdown",
      "metadata": {
        "id": "Djvza4K_Fnvy",
        "colab_type": "text"
      },
      "source": [
        "Set the project ID for gcloud (_Is this necessary?_)\n"
      ]
    },
    {
      "cell_type": "code",
      "metadata": {
        "id": "IYq_cA1QF8Hs",
        "colab_type": "code",
        "colab": {}
      },
      "source": [
        "!gcloud config set project {project_id}"
      ],
      "execution_count": null,
      "outputs": []
    },
    {
      "cell_type": "markdown",
      "metadata": {
        "id": "DI1klg3tFHno",
        "colab_type": "text"
      },
      "source": [
        "# Load Multiple Listing Service (MLS) dataset into Pandas data frame"
      ]
    },
    {
      "cell_type": "markdown",
      "metadata": {
        "colab_type": "text",
        "id": "NAM6vyXAfVUj"
      },
      "source": [
        "`pandas` can read a file directly from Google Cloud storage. The MLS data file is quite large, so it can take some time to read it into a data frame.\n",
        "\n",
        "`pandas` does not always assign the correct data type to columns in a CSV file. But you can set specific column types in `read_csv` by using a `dtype` dictionary. The `pandas` character type is `object`.\n",
        "\n",
        "Also include any date columns in the `parse_dates` list to automatically convert them into `datetime64` types."
      ]
    },
    {
      "cell_type": "code",
      "metadata": {
        "colab_type": "code",
        "id": "LADpx7LReOMk",
        "colab": {}
      },
      "source": [
        "# !pip install gcsfs    # If gcsfs is not installed on your VM, uncomment this line\n",
        "import pandas as pd\n",
        "\n",
        "mls_df = pd.read_csv('gs://clgx-analytics2-tiger-team/Closed_Listings_06037_SFR_2017_or_Later_Tabular.csv',\n",
        "                     dtype={'FA_APN':'object',\n",
        "                            'CMAS_Zip5':'object',\n",
        "                            'CMAS_FIPS_CODE':'object'},\n",
        "                     parse_dates=['ListDate','CloseDate'])"
      ],
      "execution_count": 21,
      "outputs": []
    },
    {
      "cell_type": "markdown",
      "metadata": {
        "colab_type": "text",
        "id": "sSz0aInzWXFI"
      },
      "source": [
        "Each property listing has a unique ID, which is a combination of its parcel number `FA_APN` and its listing date `ListDate`. All of the listings are for single-family properties in Los Angeles county with listing dates on or after January 1, 2017."
      ]
    },
    {
      "cell_type": "code",
      "metadata": {
        "colab_type": "code",
        "id": "Bcpvh_R_6jKB",
        "colab": {
          "base_uri": "https://localhost:8080/",
          "height": 204
        },
        "outputId": "ab7dbfb1-827d-42a8-e1ec-6b92b23f2097"
      },
      "source": [
        "mls_df[['ID','FA_APN','ListDate',\n",
        "        'CMAS_SIT_HSE_NBR_1_NZ','CMAS_SIT_STR_NAME_1_NZ','CMAS_PROPERTY_CITY_1','CMAS_PROPERTY_STATE_1','CMAS_Zip5']].head()"
      ],
      "execution_count": 23,
      "outputs": [
        {
          "output_type": "execute_result",
          "data": {
            "text/html": [
              "<div>\n",
              "<style scoped>\n",
              "    .dataframe tbody tr th:only-of-type {\n",
              "        vertical-align: middle;\n",
              "    }\n",
              "\n",
              "    .dataframe tbody tr th {\n",
              "        vertical-align: top;\n",
              "    }\n",
              "\n",
              "    .dataframe thead th {\n",
              "        text-align: right;\n",
              "    }\n",
              "</style>\n",
              "<table border=\"1\" class=\"dataframe\">\n",
              "  <thead>\n",
              "    <tr style=\"text-align: right;\">\n",
              "      <th></th>\n",
              "      <th>ID</th>\n",
              "      <th>FA_APN</th>\n",
              "      <th>ListDate</th>\n",
              "      <th>CMAS_SIT_HSE_NBR_1_NZ</th>\n",
              "      <th>CMAS_SIT_STR_NAME_1_NZ</th>\n",
              "      <th>CMAS_PROPERTY_CITY_1</th>\n",
              "      <th>CMAS_PROPERTY_STATE_1</th>\n",
              "      <th>CMAS_Zip5</th>\n",
              "    </tr>\n",
              "  </thead>\n",
              "  <tbody>\n",
              "    <tr>\n",
              "      <th>0</th>\n",
              "      <td>0493057004_2020-02-14</td>\n",
              "      <td>0493057004</td>\n",
              "      <td>2020-02-14</td>\n",
              "      <td>2973</td>\n",
              "      <td>HILLSIDE</td>\n",
              "      <td>West Covina</td>\n",
              "      <td>CA</td>\n",
              "      <td>91791</td>\n",
              "    </tr>\n",
              "    <tr>\n",
              "      <th>1</th>\n",
              "      <td>0713900400_2018-06-21</td>\n",
              "      <td>0713900400</td>\n",
              "      <td>2018-06-21</td>\n",
              "      <td>3804</td>\n",
              "      <td>LINDEN</td>\n",
              "      <td>Long Beach</td>\n",
              "      <td>CA</td>\n",
              "      <td>90807</td>\n",
              "    </tr>\n",
              "    <tr>\n",
              "      <th>2</th>\n",
              "      <td>2004001019_2018-02-22</td>\n",
              "      <td>2004001019</td>\n",
              "      <td>2018-02-22</td>\n",
              "      <td>8321</td>\n",
              "      <td>PONCE</td>\n",
              "      <td>Los Angeles</td>\n",
              "      <td>CA</td>\n",
              "      <td>91304</td>\n",
              "    </tr>\n",
              "    <tr>\n",
              "      <th>3</th>\n",
              "      <td>2004001031_2019-02-05</td>\n",
              "      <td>2004001031</td>\n",
              "      <td>2019-02-05</td>\n",
              "      <td>8315</td>\n",
              "      <td>PONCE</td>\n",
              "      <td>Los Angeles</td>\n",
              "      <td>CA</td>\n",
              "      <td>91304</td>\n",
              "    </tr>\n",
              "    <tr>\n",
              "      <th>4</th>\n",
              "      <td>2004002001_2018-08-08</td>\n",
              "      <td>2004002001</td>\n",
              "      <td>2018-08-08</td>\n",
              "      <td>22726</td>\n",
              "      <td>ECCLES</td>\n",
              "      <td>Los Angeles</td>\n",
              "      <td>CA</td>\n",
              "      <td>91304</td>\n",
              "    </tr>\n",
              "  </tbody>\n",
              "</table>\n",
              "</div>"
            ],
            "text/plain": [
              "                      ID      FA_APN  ... CMAS_PROPERTY_STATE_1  CMAS_Zip5\n",
              "0  0493057004_2020-02-14  0493057004  ...                    CA      91791\n",
              "1  0713900400_2018-06-21  0713900400  ...                    CA      90807\n",
              "2  2004001019_2018-02-22  2004001019  ...                    CA      91304\n",
              "3  2004001031_2019-02-05  2004001031  ...                    CA      91304\n",
              "4  2004002001_2018-08-08  2004002001  ...                    CA      91304\n",
              "\n",
              "[5 rows x 8 columns]"
            ]
          },
          "metadata": {
            "tags": []
          },
          "execution_count": 23
        }
      ]
    },
    {
      "cell_type": "markdown",
      "metadata": {
        "colab_type": "text",
        "id": "MHPM16gWWNvn"
      },
      "source": [
        "The listing `ListPrice` and closed `ClosePrice` prices are avaiable for each property, along with the listing date `ListDate` and closing date `CloseDate`. You can calculate each property's \"days-on-market\" by subtracting the `ListDate` from the `CloseDate`.\n",
        "\n",
        "There are some erroneous dates in the MLS dataset, so some of the calculated days-on-market may be odd."
      ]
    },
    {
      "cell_type": "code",
      "metadata": {
        "colab_type": "code",
        "id": "L5cMl7XV65be",
        "colab": {
          "base_uri": "https://localhost:8080/",
          "height": 357
        },
        "outputId": "eaec1472-7fd4-43c3-a4c9-dafedbdee21e"
      },
      "source": [
        "mls_df['DaysOnMarket'] = mls_df['CloseDate'] - mls_df['ListDate']\n",
        "\n",
        "display(mls_df[['ListDate','CloseDate','DaysOnMarket']].head())\n",
        "\n",
        "display(mls_df['DaysOnMarket'].describe())"
      ],
      "execution_count": 27,
      "outputs": [
        {
          "output_type": "display_data",
          "data": {
            "text/html": [
              "<div>\n",
              "<style scoped>\n",
              "    .dataframe tbody tr th:only-of-type {\n",
              "        vertical-align: middle;\n",
              "    }\n",
              "\n",
              "    .dataframe tbody tr th {\n",
              "        vertical-align: top;\n",
              "    }\n",
              "\n",
              "    .dataframe thead th {\n",
              "        text-align: right;\n",
              "    }\n",
              "</style>\n",
              "<table border=\"1\" class=\"dataframe\">\n",
              "  <thead>\n",
              "    <tr style=\"text-align: right;\">\n",
              "      <th></th>\n",
              "      <th>ListDate</th>\n",
              "      <th>CloseDate</th>\n",
              "      <th>DaysOnMarket</th>\n",
              "    </tr>\n",
              "  </thead>\n",
              "  <tbody>\n",
              "    <tr>\n",
              "      <th>0</th>\n",
              "      <td>2020-02-14</td>\n",
              "      <td>2020-04-23</td>\n",
              "      <td>69 days</td>\n",
              "    </tr>\n",
              "    <tr>\n",
              "      <th>1</th>\n",
              "      <td>2018-06-21</td>\n",
              "      <td>2018-08-29</td>\n",
              "      <td>69 days</td>\n",
              "    </tr>\n",
              "    <tr>\n",
              "      <th>2</th>\n",
              "      <td>2018-02-22</td>\n",
              "      <td>2018-04-18</td>\n",
              "      <td>55 days</td>\n",
              "    </tr>\n",
              "    <tr>\n",
              "      <th>3</th>\n",
              "      <td>2019-02-05</td>\n",
              "      <td>2019-04-24</td>\n",
              "      <td>78 days</td>\n",
              "    </tr>\n",
              "    <tr>\n",
              "      <th>4</th>\n",
              "      <td>2018-08-08</td>\n",
              "      <td>2018-10-18</td>\n",
              "      <td>71 days</td>\n",
              "    </tr>\n",
              "  </tbody>\n",
              "</table>\n",
              "</div>"
            ],
            "text/plain": [
              "    ListDate  CloseDate DaysOnMarket\n",
              "0 2020-02-14 2020-04-23      69 days\n",
              "1 2018-06-21 2018-08-29      69 days\n",
              "2 2018-02-22 2018-04-18      55 days\n",
              "3 2019-02-05 2019-04-24      78 days\n",
              "4 2018-08-08 2018-10-18      71 days"
            ]
          },
          "metadata": {
            "tags": []
          }
        },
        {
          "output_type": "display_data",
          "data": {
            "text/plain": [
              "count                     161015\n",
              "mean     79 days 16:00:57.401813\n",
              "std      72 days 14:23:22.216268\n",
              "min          -219 days +00:00:00\n",
              "25%             43 days 00:00:00\n",
              "50%             61 days 00:00:00\n",
              "75%             95 days 00:00:00\n",
              "max           9915 days 00:00:00\n",
              "Name: DaysOnMarket, dtype: object"
            ]
          },
          "metadata": {
            "tags": []
          }
        }
      ]
    },
    {
      "cell_type": "markdown",
      "metadata": {
        "colab_type": "text",
        "id": "xAPlMk6nWKNm"
      },
      "source": [
        "In the MLS database, all of the listings were marked as \"for sale\" as opposed to \"for rent\". But there are some errors in this field, so there are some rental properties included in the dataset.\n"
      ]
    },
    {
      "cell_type": "code",
      "metadata": {
        "colab_type": "code",
        "id": "pJGU6gX-7M-N",
        "colab": {
          "base_uri": "https://localhost:8080/",
          "height": 34
        },
        "outputId": "897cca02-bbd1-4952-92ab-4c2d6177db9a"
      },
      "source": [
        "(mls_df.ClosePrice < 10000).sum()"
      ],
      "execution_count": 31,
      "outputs": [
        {
          "output_type": "execute_result",
          "data": {
            "text/plain": [
              "3093"
            ]
          },
          "metadata": {
            "tags": []
          },
          "execution_count": 31
        }
      ]
    },
    {
      "cell_type": "markdown",
      "metadata": {
        "id": "SdL8sHbKHXSi",
        "colab_type": "text"
      },
      "source": [
        "# Text Information in the MLS Dataset"
      ]
    },
    {
      "cell_type": "markdown",
      "metadata": {
        "id": "kTAxc-2CHgrK",
        "colab_type": "text"
      },
      "source": [
        "The dataset includes the most-populated text fields in the MLS database for Los Angeles county. These are the fields that realtors use to describe properties to potential buyers and include in listing sheets and advertisements.\n",
        "\n",
        "Some of the fields are not necessarily public (e.g., `AgentRemarks`). For the most part, the field names provide a good description of the information included in each field.\n",
        "\n",
        "Here are the average number of characacters included in each field across all listings:"
      ]
    },
    {
      "cell_type": "code",
      "metadata": {
        "id": "1p79PXPdKINM",
        "colab_type": "code",
        "colab": {
          "base_uri": "https://localhost:8080/",
          "height": 527
        },
        "outputId": "ad7f780f-5775-4c59-9caa-3bea27a0afb9"
      },
      "source": [
        "text_desc_cols = ['AgentRemarks','Appliances','Cooling',\n",
        "                  'Directions','GarageStyle','Heating',\n",
        "                  'LotDesc','ParkingFeatures','Pool',\n",
        "                  'PublicRemarks','Roof','RoomsDiningDescription',\n",
        "                  'RoomsLaundryDescription','RoomsOtherDescription','StoriesDesc',\n",
        "                  'Style','UtilitiesSewer','UtilitiesWater',\n",
        "                  'ViewDescription','Zoning','Exterior',\n",
        "                  'Fencing','Floors','SecurityFeatures',\n",
        "                  'Utilities','HeatingFuel','IrrigationSource',\n",
        "                  'Amenities1','Amenities2']\n",
        "\n",
        "mls_df[text_desc_cols].fillna('').astype(str).apply(lambda x:x.str.len()).mean().sort_values(ascending=False)"
      ],
      "execution_count": 35,
      "outputs": [
        {
          "output_type": "execute_result",
          "data": {
            "text/plain": [
              "PublicRemarks              775.778524\n",
              "AgentRemarks               285.065031\n",
              "RoomsOtherDescription       76.630388\n",
              "Directions                  64.177928\n",
              "LotDesc                     46.623445\n",
              "RoomsLaundryDescription     43.652908\n",
              "Appliances                  40.431177\n",
              "GarageStyle                 37.249256\n",
              "ParkingFeatures             34.894184\n",
              "UtilitiesWater              33.437096\n",
              "ViewDescription             30.740341\n",
              "RoomsDiningDescription      27.067397\n",
              "Cooling                     23.503556\n",
              "UtilitiesSewer              23.328752\n",
              "Heating                     21.188448\n",
              "Utilities                   17.632842\n",
              "Floors                      16.772034\n",
              "Pool                        16.095097\n",
              "StoriesDesc                 14.904909\n",
              "SecurityFeatures            14.456554\n",
              "Zoning                      12.790541\n",
              "Style                        8.499053\n",
              "Fencing                      6.235767\n",
              "Roof                         5.704375\n",
              "HeatingFuel                  5.448275\n",
              "Exterior                     4.179356\n",
              "Amenities2                   0.514803\n",
              "IrrigationSource             0.411403\n",
              "Amenities1                   0.390169\n",
              "dtype: float64"
            ]
          },
          "metadata": {
            "tags": []
          },
          "execution_count": 35
        }
      ]
    },
    {
      "cell_type": "markdown",
      "metadata": {
        "id": "EdVHoGNkM4wg",
        "colab_type": "text"
      },
      "source": [
        "The data set also contains a field `AllText` that combines all of the text fields into a single string. The Google AutoML NLP models require that all text appears in a single string.\n",
        "\n",
        "Each field is denoted by its field name followed by a colon. The fields are separated by semi-colons. (Does including the field names make it more difficult for AutoML to fit accurate NLP models?)"
      ]
    },
    {
      "cell_type": "code",
      "metadata": {
        "id": "GnHWdB8yPwXO",
        "colab_type": "code",
        "colab": {
          "base_uri": "https://localhost:8080/",
          "height": 1000
        },
        "outputId": "bda7e356-0f73-47bf-b9e1-02b5e1658008"
      },
      "source": [
        "pd.set_option('display.max_colwidth', None)\n",
        "\n",
        "display(mls_df[text_desc_cols].head(n=1).transpose())\n",
        "\n",
        "display(mls_df[['ID','AllText']].head(n=1))"
      ],
      "execution_count": 49,
      "outputs": [
        {
          "output_type": "display_data",
          "data": {
            "text/html": [
              "<div>\n",
              "<style scoped>\n",
              "    .dataframe tbody tr th:only-of-type {\n",
              "        vertical-align: middle;\n",
              "    }\n",
              "\n",
              "    .dataframe tbody tr th {\n",
              "        vertical-align: top;\n",
              "    }\n",
              "\n",
              "    .dataframe thead th {\n",
              "        text-align: right;\n",
              "    }\n",
              "</style>\n",
              "<table border=\"1\" class=\"dataframe\">\n",
              "  <thead>\n",
              "    <tr style=\"text-align: right;\">\n",
              "      <th></th>\n",
              "      <th>0</th>\n",
              "    </tr>\n",
              "  </thead>\n",
              "  <tbody>\n",
              "    <tr>\n",
              "      <th>AgentRemarks</th>\n",
              "      <td>AgentRemarks: Beautiful Spacious home in the South Hills area of West Covina. As you enter through the double entry doors you see the step down formal living room with vaulted ceiling and plantation shutters with a formal dining room adjacent to the living room that has french doors leading to the backyard. The family room is off the open kitchen which both overlook the backyard. The spacious family room has tile flooring, fireplace, and wet bar. This home features 4 bedrooms, one of which is the Master bedroom en-suite. This master suite has its own sitting area with wet bar and fireplace to enjoy while reading a book or having a glass of wine. The updated master bath is attached with beautiful individual shower and large tub, dual sinks and lots of counter space. There is also a full bath upstairs with dual sink ,tub and shower. The 3 car attached garage has direct access to the house and backyard.Great entertaining home with a beautiful outdoor kitchen area with built in BBQ, sink, and mini fridge along with seating for several guests to enjoy. The added bonus is a outdoor fireplace to enjoy on cool nights. The large swimming pool features a spa and waterfall. Lots of fruit trees and very private. The home is near Cal Poly, Mt Sac Junior College, shops, restaurants and near the 10, 60 and 57 freeways. This home is also near the South Hills Country Club and golf course. A Must see! The lot is over 20,000 sq. ft. Front yard has a view of Mt Baldy and mountain range.</td>\n",
              "    </tr>\n",
              "    <tr>\n",
              "      <th>Appliances</th>\n",
              "      <td>Appliances: Barbecue,Built-In Range,Dishwasher,Electric Cooktop,Refrigerator</td>\n",
              "    </tr>\n",
              "    <tr>\n",
              "      <th>Cooling</th>\n",
              "      <td>Cooling: Ceiling Fan(s),Central A/C</td>\n",
              "    </tr>\n",
              "    <tr>\n",
              "      <th>Directions</th>\n",
              "      <td>Directions: West of Citrus S/Cameron</td>\n",
              "    </tr>\n",
              "    <tr>\n",
              "      <th>GarageStyle</th>\n",
              "      <td>GarageStyle: Direct Garage Access,Driveway,Concrete</td>\n",
              "    </tr>\n",
              "    <tr>\n",
              "      <th>Heating</th>\n",
              "      <td>Heating: Forced Air Unit</td>\n",
              "    </tr>\n",
              "    <tr>\n",
              "      <th>LotDesc</th>\n",
              "      <td>LotDesc: Back Yard,Front Yard,Lot 20000-39999 Sqft,Patio Home,Yard</td>\n",
              "    </tr>\n",
              "    <tr>\n",
              "      <th>ParkingFeatures</th>\n",
              "      <td>ParkingFeatures: Direct Garage Access,Driveway,Driveway - Concrete</td>\n",
              "    </tr>\n",
              "    <tr>\n",
              "      <th>Pool</th>\n",
              "      <td>Pool: Private Pool</td>\n",
              "    </tr>\n",
              "    <tr>\n",
              "      <th>PublicRemarks</th>\n",
              "      <td>PublicRemarks: Beautiful Spacious home in the South Hills area of West Covina. As you enter through the double entry doors you see the step down formal living room with vaulted ceiling and plantation shutters with a formal dining room adjacent to the living room that has french doors leading to the backyard. The family room is off the open kitchen which both overlook the backyard. The spacious family room has tile flooring, fireplace, and wet bar. This home features 4 bedrooms, one of which is the Master bedroom en-suite. This master suite has its own sitting area with wet bar and fireplace to enjoy while reading a book or having a glass of wine. The updated master bath is attached with beautiful individual shower and large tub, dual sinks and lots of counter space. There is also a full bath upstairs with dual sink ,tub and shower. The 3 car attached garage has direct access to the house and backyard.Great entertaining home with a beautiful outdoor kitchen area with built in BBQ, sink, and mini fridge along with seating for several guests to enjoy. The added bonus is a outdoor fireplace to enjoy on cool nights. The large swimming pool features a spa and waterfall. Lots of fruit trees and very private. The home is near Cal Poly, Mt Sac Junior College, shops, restaurants and near the 10, 60 and 57 freeways. This home is also near the South Hills Country Club and golf course. A Must see! The lot is over 20,000 sq. ft. Front yard has a view of Mt Baldy and mountain range.</td>\n",
              "    </tr>\n",
              "    <tr>\n",
              "      <th>Roof</th>\n",
              "      <td>Roof: Tile/Clay</td>\n",
              "    </tr>\n",
              "    <tr>\n",
              "      <th>RoomsDiningDescription</th>\n",
              "      <td>RoomsDiningDescription: Eat In Kitchen</td>\n",
              "    </tr>\n",
              "    <tr>\n",
              "      <th>RoomsLaundryDescription</th>\n",
              "      <td>RoomsLaundryDescription: Individual Room</td>\n",
              "    </tr>\n",
              "    <tr>\n",
              "      <th>RoomsOtherDescription</th>\n",
              "      <td>RoomsOtherDescription: All Bedrooms Up,Family Room,Formal Entry,Kitchen,Laundry,Living Room,Master Bathroom,Master Bedroom,Master Suite</td>\n",
              "    </tr>\n",
              "    <tr>\n",
              "      <th>StoriesDesc</th>\n",
              "      <td>StoriesDesc: 2 Story</td>\n",
              "    </tr>\n",
              "    <tr>\n",
              "      <th>Style</th>\n",
              "      <td>Style: Patio Home</td>\n",
              "    </tr>\n",
              "    <tr>\n",
              "      <th>UtilitiesSewer</th>\n",
              "      <td>UtilitiesSewer: Public Sewer</td>\n",
              "    </tr>\n",
              "    <tr>\n",
              "      <th>UtilitiesWater</th>\n",
              "      <td>UtilitiesWater: Public,Water District</td>\n",
              "    </tr>\n",
              "    <tr>\n",
              "      <th>ViewDescription</th>\n",
              "      <td>ViewDescription: Mountains/Hills</td>\n",
              "    </tr>\n",
              "    <tr>\n",
              "      <th>Zoning</th>\n",
              "      <td>NaN</td>\n",
              "    </tr>\n",
              "    <tr>\n",
              "      <th>Exterior</th>\n",
              "      <td>NaN</td>\n",
              "    </tr>\n",
              "    <tr>\n",
              "      <th>Fencing</th>\n",
              "      <td>NaN</td>\n",
              "    </tr>\n",
              "    <tr>\n",
              "      <th>Floors</th>\n",
              "      <td>NaN</td>\n",
              "    </tr>\n",
              "    <tr>\n",
              "      <th>SecurityFeatures</th>\n",
              "      <td>NaN</td>\n",
              "    </tr>\n",
              "    <tr>\n",
              "      <th>Utilities</th>\n",
              "      <td>NaN</td>\n",
              "    </tr>\n",
              "    <tr>\n",
              "      <th>HeatingFuel</th>\n",
              "      <td>NaN</td>\n",
              "    </tr>\n",
              "    <tr>\n",
              "      <th>IrrigationSource</th>\n",
              "      <td>NaN</td>\n",
              "    </tr>\n",
              "    <tr>\n",
              "      <th>Amenities1</th>\n",
              "      <td>NaN</td>\n",
              "    </tr>\n",
              "    <tr>\n",
              "      <th>Amenities2</th>\n",
              "      <td>NaN</td>\n",
              "    </tr>\n",
              "  </tbody>\n",
              "</table>\n",
              "</div>"
            ],
            "text/plain": [
              "                                                                                                                                                                                                                                                                                                                                                                                                                                                                                                                                                                                                                                                                                                                                                                                                                                                                                                                                                                                                                                                                                                                                                                                                                                                                                                                                                                                                                                                                                                                                                                            0\n",
              "AgentRemarks              AgentRemarks: Beautiful Spacious home in the South Hills area of West Covina. As you enter through the double entry doors you see the step down formal living room with vaulted ceiling and plantation shutters with a formal dining room adjacent to the living room that has french doors leading to the backyard. The family room is off the open kitchen which both overlook the backyard. The spacious family room has tile flooring, fireplace, and wet bar. This home features 4 bedrooms, one of which is the Master bedroom en-suite. This master suite has its own sitting area with wet bar and fireplace to enjoy while reading a book or having a glass of wine. The updated master bath is attached with beautiful individual shower and large tub, dual sinks and lots of counter space. There is also a full bath upstairs with dual sink ,tub and shower. The 3 car attached garage has direct access to the house and backyard.Great entertaining home with a beautiful outdoor kitchen area with built in BBQ, sink, and mini fridge along with seating for several guests to enjoy. The added bonus is a outdoor fireplace to enjoy on cool nights. The large swimming pool features a spa and waterfall. Lots of fruit trees and very private. The home is near Cal Poly, Mt Sac Junior College, shops, restaurants and near the 10, 60 and 57 freeways. This home is also near the South Hills Country Club and golf course. A Must see! The lot is over 20,000 sq. ft. Front yard has a view of Mt Baldy and mountain range.\n",
              "Appliances                                                                                                                                                                                                                                                                                                                                                                                                                                                                                                                                                                                                                                                                                                                                                                                                                                                                                                                                                                                                                                                                                                                                                                                                                                                                                                                                                                                                                                                                                       Appliances: Barbecue,Built-In Range,Dishwasher,Electric Cooktop,Refrigerator\n",
              "Cooling                                                                                                                                                                                                                                                                                                                                                                                                                                                                                                                                                                                                                                                                                                                                                                                                                                                                                                                                                                                                                                                                                                                                                                                                                                                                                                                                                                                                                                                                                                                                   Cooling: Ceiling Fan(s),Central A/C\n",
              "Directions                                                                                                                                                                                                                                                                                                                                                                                                                                                                                                                                                                                                                                                                                                                                                                                                                                                                                                                                                                                                                                                                                                                                                                                                                                                                                                                                                                                                                                                                                                                               Directions: West of Citrus S/Cameron\n",
              "GarageStyle                                                                                                                                                                                                                                                                                                                                                                                                                                                                                                                                                                                                                                                                                                                                                                                                                                                                                                                                                                                                                                                                                                                                                                                                                                                                                                                                                                                                                                                                                                               GarageStyle: Direct Garage Access,Driveway,Concrete\n",
              "Heating                                                                                                                                                                                                                                                                                                                                                                                                                                                                                                                                                                                                                                                                                                                                                                                                                                                                                                                                                                                                                                                                                                                                                                                                                                                                                                                                                                                                                                                                                                                                              Heating: Forced Air Unit\n",
              "LotDesc                                                                                                                                                                                                                                                                                                                                                                                                                                                                                                                                                                                                                                                                                                                                                                                                                                                                                                                                                                                                                                                                                                                                                                                                                                                                                                                                                                                                                                                                                                    LotDesc: Back Yard,Front Yard,Lot 20000-39999 Sqft,Patio Home,Yard\n",
              "ParkingFeatures                                                                                                                                                                                                                                                                                                                                                                                                                                                                                                                                                                                                                                                                                                                                                                                                                                                                                                                                                                                                                                                                                                                                                                                                                                                                                                                                                                                                                                                                                            ParkingFeatures: Direct Garage Access,Driveway,Driveway - Concrete\n",
              "Pool                                                                                                                                                                                                                                                                                                                                                                                                                                                                                                                                                                                                                                                                                                                                                                                                                                                                                                                                                                                                                                                                                                                                                                                                                                                                                                                                                                                                                                                                                                                                                       Pool: Private Pool\n",
              "PublicRemarks            PublicRemarks: Beautiful Spacious home in the South Hills area of West Covina. As you enter through the double entry doors you see the step down formal living room with vaulted ceiling and plantation shutters with a formal dining room adjacent to the living room that has french doors leading to the backyard. The family room is off the open kitchen which both overlook the backyard. The spacious family room has tile flooring, fireplace, and wet bar. This home features 4 bedrooms, one of which is the Master bedroom en-suite. This master suite has its own sitting area with wet bar and fireplace to enjoy while reading a book or having a glass of wine. The updated master bath is attached with beautiful individual shower and large tub, dual sinks and lots of counter space. There is also a full bath upstairs with dual sink ,tub and shower. The 3 car attached garage has direct access to the house and backyard.Great entertaining home with a beautiful outdoor kitchen area with built in BBQ, sink, and mini fridge along with seating for several guests to enjoy. The added bonus is a outdoor fireplace to enjoy on cool nights. The large swimming pool features a spa and waterfall. Lots of fruit trees and very private. The home is near Cal Poly, Mt Sac Junior College, shops, restaurants and near the 10, 60 and 57 freeways. This home is also near the South Hills Country Club and golf course. A Must see! The lot is over 20,000 sq. ft. Front yard has a view of Mt Baldy and mountain range.\n",
              "Roof                                                                                                                                                                                                                                                                                                                                                                                                                                                                                                                                                                                                                                                                                                                                                                                                                                                                                                                                                                                                                                                                                                                                                                                                                                                                                                                                                                                                                                                                                                                                                          Roof: Tile/Clay\n",
              "RoomsDiningDescription                                                                                                                                                                                                                                                                                                                                                                                                                                                                                                                                                                                                                                                                                                                                                                                                                                                                                                                                                                                                                                                                                                                                                                                                                                                                                                                                                                                                                                                                                                                 RoomsDiningDescription: Eat In Kitchen\n",
              "RoomsLaundryDescription                                                                                                                                                                                                                                                                                                                                                                                                                                                                                                                                                                                                                                                                                                                                                                                                                                                                                                                                                                                                                                                                                                                                                                                                                                                                                                                                                                                                                                                                                                              RoomsLaundryDescription: Individual Room\n",
              "RoomsOtherDescription                                                                                                                                                                                                                                                                                                                                                                                                                                                                                                                                                                                                                                                                                                                                                                                                                                                                                                                                                                                                                                                                                                                                                                                                                                                                                                                                                                                                                 RoomsOtherDescription: All Bedrooms Up,Family Room,Formal Entry,Kitchen,Laundry,Living Room,Master Bathroom,Master Bedroom,Master Suite\n",
              "StoriesDesc                                                                                                                                                                                                                                                                                                                                                                                                                                                                                                                                                                                                                                                                                                                                                                                                                                                                                                                                                                                                                                                                                                                                                                                                                                                                                                                                                                                                                                                                                                                                              StoriesDesc: 2 Story\n",
              "Style                                                                                                                                                                                                                                                                                                                                                                                                                                                                                                                                                                                                                                                                                                                                                                                                                                                                                                                                                                                                                                                                                                                                                                                                                                                                                                                                                                                                                                                                                                                                                       Style: Patio Home\n",
              "UtilitiesSewer                                                                                                                                                                                                                                                                                                                                                                                                                                                                                                                                                                                                                                                                                                                                                                                                                                                                                                                                                                                                                                                                                                                                                                                                                                                                                                                                                                                                                                                                                                                                   UtilitiesSewer: Public Sewer\n",
              "UtilitiesWater                                                                                                                                                                                                                                                                                                                                                                                                                                                                                                                                                                                                                                                                                                                                                                                                                                                                                                                                                                                                                                                                                                                                                                                                                                                                                                                                                                                                                                                                                                                          UtilitiesWater: Public,Water District\n",
              "ViewDescription                                                                                                                                                                                                                                                                                                                                                                                                                                                                                                                                                                                                                                                                                                                                                                                                                                                                                                                                                                                                                                                                                                                                                                                                                                                                                                                                                                                                                                                                                                                              ViewDescription: Mountains/Hills\n",
              "Zoning                                                                                                                                                                                                                                                                                                                                                                                                                                                                                                                                                                                                                                                                                                                                                                                                                                                                                                                                                                                                                                                                                                                                                                                                                                                                                                                                                                                                                                                                                                                                                                    NaN\n",
              "Exterior                                                                                                                                                                                                                                                                                                                                                                                                                                                                                                                                                                                                                                                                                                                                                                                                                                                                                                                                                                                                                                                                                                                                                                                                                                                                                                                                                                                                                                                                                                                                                                  NaN\n",
              "Fencing                                                                                                                                                                                                                                                                                                                                                                                                                                                                                                                                                                                                                                                                                                                                                                                                                                                                                                                                                                                                                                                                                                                                                                                                                                                                                                                                                                                                                                                                                                                                                                   NaN\n",
              "Floors                                                                                                                                                                                                                                                                                                                                                                                                                                                                                                                                                                                                                                                                                                                                                                                                                                                                                                                                                                                                                                                                                                                                                                                                                                                                                                                                                                                                                                                                                                                                                                    NaN\n",
              "SecurityFeatures                                                                                                                                                                                                                                                                                                                                                                                                                                                                                                                                                                                                                                                                                                                                                                                                                                                                                                                                                                                                                                                                                                                                                                                                                                                                                                                                                                                                                                                                                                                                                          NaN\n",
              "Utilities                                                                                                                                                                                                                                                                                                                                                                                                                                                                                                                                                                                                                                                                                                                                                                                                                                                                                                                                                                                                                                                                                                                                                                                                                                                                                                                                                                                                                                                                                                                                                                 NaN\n",
              "HeatingFuel                                                                                                                                                                                                                                                                                                                                                                                                                                                                                                                                                                                                                                                                                                                                                                                                                                                                                                                                                                                                                                                                                                                                                                                                                                                                                                                                                                                                                                                                                                                                                               NaN\n",
              "IrrigationSource                                                                                                                                                                                                                                                                                                                                                                                                                                                                                                                                                                                                                                                                                                                                                                                                                                                                                                                                                                                                                                                                                                                                                                                                                                                                                                                                                                                                                                                                                                                                                          NaN\n",
              "Amenities1                                                                                                                                                                                                                                                                                                                                                                                                                                                                                                                                                                                                                                                                                                                                                                                                                                                                                                                                                                                                                                                                                                                                                                                                                                                                                                                                                                                                                                                                                                                                                                NaN\n",
              "Amenities2                                                                                                                                                                                                                                                                                                                                                                                                                                                                                                                                                                                                                                                                                                                                                                                                                                                                                                                                                                                                                                                                                                                                                                                                                                                                                                                                                                                                                                                                                                                                                                NaN"
            ]
          },
          "metadata": {
            "tags": []
          }
        },
        {
          "output_type": "display_data",
          "data": {
            "text/html": [
              "<div>\n",
              "<style scoped>\n",
              "    .dataframe tbody tr th:only-of-type {\n",
              "        vertical-align: middle;\n",
              "    }\n",
              "\n",
              "    .dataframe tbody tr th {\n",
              "        vertical-align: top;\n",
              "    }\n",
              "\n",
              "    .dataframe thead th {\n",
              "        text-align: right;\n",
              "    }\n",
              "</style>\n",
              "<table border=\"1\" class=\"dataframe\">\n",
              "  <thead>\n",
              "    <tr style=\"text-align: right;\">\n",
              "      <th></th>\n",
              "      <th>ID</th>\n",
              "      <th>AllText</th>\n",
              "    </tr>\n",
              "  </thead>\n",
              "  <tbody>\n",
              "    <tr>\n",
              "      <th>0</th>\n",
              "      <td>0493057004_2020-02-14</td>\n",
              "      <td>PublicRemarks: Beautiful Spacious home in the South Hills area of West Covina. As you enter through the double entry doors you see the step down formal living room with vaulted ceiling and plantation shutters with a formal dining room adjacent to the living room that has french doors leading to the backyard. The family room is off the open kitchen which both overlook the backyard. The spacious family room has tile flooring, fireplace, and wet bar. This home features 4 bedrooms, one of which is the Master bedroom en-suite. This master suite has its own sitting area with wet bar and fireplace to enjoy while reading a book or having a glass of wine. The updated master bath is attached with beautiful individual shower and large tub, dual sinks and lots of counter space. There is also a full bath upstairs with dual sink ,tub and shower. The 3 car attached garage has direct access to the house and backyard.Great entertaining home with a beautiful outdoor kitchen area with built in BBQ, sink, and mini fridge along with seating for several guests to enjoy. The added bonus is a outdoor fireplace to enjoy on cool nights. The large swimming pool features a spa and waterfall. Lots of fruit trees and very private. The home is near Cal Poly, Mt Sac Junior College, shops, restaurants and near the 10, 60 and 57 freeways. This home is also near the South Hills Country Club and golf course. A Must see! The lot is over 20,000 sq. ft. Front yard has a view of Mt Baldy and mountain range.; AgentRemarks: Beautiful Spacious home in the South Hills area of West Covina. As you enter through the double entry doors you see the step down formal living room with vaulted ceiling and plantation shutters with a formal dining room adjacent to the living room that has french doors leading to the backyard. The family room is off the open kitchen which both overlook the backyard. The spacious family room has tile flooring, fireplace, and wet bar. This home features 4 bedrooms, one of which is the Master bedroom en-suite. This master suite has its own sitting area with wet bar and fireplace to enjoy while reading a book or having a glass of wine. The updated master bath is attached with beautiful individual shower and large tub, dual sinks and lots of counter space. There is also a full bath upstairs with dual sink ,tub and shower. The 3 car attached garage has direct access to the house and backyard.Great entertaining home with a beautiful outdoor kitchen area with built in BBQ, sink, and mini fridge along with seating for several guests to enjoy. The added bonus is a outdoor fireplace to enjoy on cool nights. The large swimming pool features a spa and waterfall. Lots of fruit trees and very private. The home is near Cal Poly, Mt Sac Junior College, shops, restaurants and near the 10, 60 and 57 freeways. This home is also near the South Hills Country Club and golf course. A Must see! The lot is over 20,000 sq. ft. Front yard has a view of Mt Baldy and mountain range.; RoomsOtherDescription: All Bedrooms Up,Family Room,Formal Entry,Kitchen,Laundry,Living Room,Master Bathroom,Master Bedroom,Master Suite; Directions: West of Citrus S/Cameron; LotDesc: Back Yard,Front Yard,Lot 20000-39999 Sqft,Patio Home,Yard; RoomsLaundryDescription: Individual Room; Appliances: Barbecue,Built-In Range,Dishwasher,Electric Cooktop,Refrigerator; GarageStyle: Direct Garage Access,Driveway,Concrete; ParkingFeatures: Direct Garage Access,Driveway,Driveway - Concrete; UtilitiesWater: Public,Water District; ViewDescription: Mountains/Hills; RoomsDiningDescription: Eat In Kitchen; UtilitiesSewer: Public Sewer; Cooling: Ceiling Fan(s),Central A/C; Heating: Forced Air Unit; Pool: Private Pool; StoriesDesc: 2 Story; Style: Patio Home; Roof: Tile/Clay</td>\n",
              "    </tr>\n",
              "  </tbody>\n",
              "</table>\n",
              "</div>"
            ],
            "text/plain": [
              "                      ID                                                                                                                                                                                                                                                                                                                                                                                                                                                                                                                                                                                                                                                                                                                                                                                                                                                                                                                                                                                                                                                                                                                                                                                                                                                                                                                                                                                                                                                                                                                                                                                                                                                                                                                                                                                                                                                                                                                                                                                                                                                                                                                                                                                                                                                                                                                                                                                                                                                                                                                                                                                                                                                                                                                                                                                                                                                                                                                                                                                                                                                                                                                                                                                                                                                                                                                                                                                                                                                                                                                                                                                                                                                                                                                                                                                                                                                                                                    AllText\n",
              "0  0493057004_2020-02-14  PublicRemarks: Beautiful Spacious home in the South Hills area of West Covina. As you enter through the double entry doors you see the step down formal living room with vaulted ceiling and plantation shutters with a formal dining room adjacent to the living room that has french doors leading to the backyard. The family room is off the open kitchen which both overlook the backyard. The spacious family room has tile flooring, fireplace, and wet bar. This home features 4 bedrooms, one of which is the Master bedroom en-suite. This master suite has its own sitting area with wet bar and fireplace to enjoy while reading a book or having a glass of wine. The updated master bath is attached with beautiful individual shower and large tub, dual sinks and lots of counter space. There is also a full bath upstairs with dual sink ,tub and shower. The 3 car attached garage has direct access to the house and backyard.Great entertaining home with a beautiful outdoor kitchen area with built in BBQ, sink, and mini fridge along with seating for several guests to enjoy. The added bonus is a outdoor fireplace to enjoy on cool nights. The large swimming pool features a spa and waterfall. Lots of fruit trees and very private. The home is near Cal Poly, Mt Sac Junior College, shops, restaurants and near the 10, 60 and 57 freeways. This home is also near the South Hills Country Club and golf course. A Must see! The lot is over 20,000 sq. ft. Front yard has a view of Mt Baldy and mountain range.; AgentRemarks: Beautiful Spacious home in the South Hills area of West Covina. As you enter through the double entry doors you see the step down formal living room with vaulted ceiling and plantation shutters with a formal dining room adjacent to the living room that has french doors leading to the backyard. The family room is off the open kitchen which both overlook the backyard. The spacious family room has tile flooring, fireplace, and wet bar. This home features 4 bedrooms, one of which is the Master bedroom en-suite. This master suite has its own sitting area with wet bar and fireplace to enjoy while reading a book or having a glass of wine. The updated master bath is attached with beautiful individual shower and large tub, dual sinks and lots of counter space. There is also a full bath upstairs with dual sink ,tub and shower. The 3 car attached garage has direct access to the house and backyard.Great entertaining home with a beautiful outdoor kitchen area with built in BBQ, sink, and mini fridge along with seating for several guests to enjoy. The added bonus is a outdoor fireplace to enjoy on cool nights. The large swimming pool features a spa and waterfall. Lots of fruit trees and very private. The home is near Cal Poly, Mt Sac Junior College, shops, restaurants and near the 10, 60 and 57 freeways. This home is also near the South Hills Country Club and golf course. A Must see! The lot is over 20,000 sq. ft. Front yard has a view of Mt Baldy and mountain range.; RoomsOtherDescription: All Bedrooms Up,Family Room,Formal Entry,Kitchen,Laundry,Living Room,Master Bathroom,Master Bedroom,Master Suite; Directions: West of Citrus S/Cameron; LotDesc: Back Yard,Front Yard,Lot 20000-39999 Sqft,Patio Home,Yard; RoomsLaundryDescription: Individual Room; Appliances: Barbecue,Built-In Range,Dishwasher,Electric Cooktop,Refrigerator; GarageStyle: Direct Garage Access,Driveway,Concrete; ParkingFeatures: Direct Garage Access,Driveway,Driveway - Concrete; UtilitiesWater: Public,Water District; ViewDescription: Mountains/Hills; RoomsDiningDescription: Eat In Kitchen; UtilitiesSewer: Public Sewer; Cooling: Ceiling Fan(s),Central A/C; Heating: Forced Air Unit; Pool: Private Pool; StoriesDesc: 2 Story; Style: Patio Home; Roof: Tile/Clay"
            ]
          },
          "metadata": {
            "tags": []
          }
        }
      ]
    },
    {
      "cell_type": "markdown",
      "metadata": {
        "id": "Culs0JzbGsxb",
        "colab_type": "text"
      },
      "source": [
        "# Creating Training Labels for AutoML"
      ]
    },
    {
      "cell_type": "markdown",
      "metadata": {
        "id": "S4YMhVqGG_qa",
        "colab_type": "text"
      },
      "source": [
        "Google AutoML can be used to build a NLP model that classifies records based on text information. "
      ]
    },
    {
      "cell_type": "code",
      "metadata": {
        "id": "kYxKWMYiGyIa",
        "colab_type": "code",
        "colab": {}
      },
      "source": [
        ""
      ],
      "execution_count": null,
      "outputs": []
    }
  ]
}